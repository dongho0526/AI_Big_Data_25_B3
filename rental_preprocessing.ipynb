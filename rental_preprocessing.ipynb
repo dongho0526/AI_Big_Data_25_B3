{
 "cells": [
  {
   "cell_type": "code",
   "execution_count": 207,
   "id": "1b597e05-9279-4426-b649-aee3b723a189",
   "metadata": {},
   "outputs": [],
   "source": [
    "import pandas as pd\n",
    "import numpy as np\n",
    "\n",
    "import matplotlib.pyplot as plt\n",
    "import matplotlib\n",
    "\n",
    "import warnings\n",
    "warnings.filterwarnings('ignore')"
   ]
  },
  {
   "cell_type": "code",
   "execution_count": 208,
   "id": "6dd7782c-5e85-46b4-8e75-4dfedbc156d8",
   "metadata": {},
   "outputs": [],
   "source": [
    "import matplotlib.pyplot as plt\n",
    "import matplotlib as mpl\n",
    "plt.rcParams['font.family'] = 'NanumGothic'\n",
    "mpl.rcParams['axes.unicode_minus'] = False"
   ]
  },
  {
   "cell_type": "markdown",
   "id": "f04f85b9-acf6-40d2-b441-36dd92dd51ae",
   "metadata": {},
   "source": [
    "# 데이터 불러오기"
   ]
  },
  {
   "cell_type": "markdown",
   "id": "b0d65192-7d0f-421f-acc8-0437df4d24e8",
   "metadata": {},
   "source": [
    "## sale"
   ]
  },
  {
   "cell_type": "code",
   "execution_count": 209,
   "id": "23389089-f146-4b3f-8aea-7ad65361d991",
   "metadata": {},
   "outputs": [],
   "source": [
    "sale= pd.read_csv(\"/home/piai/바탕화면/BigData_Project/rental_Project/dataFolder/01 rental_sales_data.csv\", encoding = 'utf-8')\n",
    "# sale"
   ]
  },
  {
   "cell_type": "code",
   "execution_count": 210,
   "id": "01241acb-c3db-4d9c-a19f-30939199a748",
   "metadata": {},
   "outputs": [],
   "source": [
    "# sale[sale['고객ID'].duplicated()]"
   ]
  },
  {
   "cell_type": "code",
   "execution_count": 211,
   "id": "14f6d94d-9747-4499-a395-6510c095cf2a",
   "metadata": {},
   "outputs": [
    {
     "data": {
      "text/html": [
       "<div>\n",
       "<style scoped>\n",
       "    .dataframe tbody tr th:only-of-type {\n",
       "        vertical-align: middle;\n",
       "    }\n",
       "\n",
       "    .dataframe tbody tr th {\n",
       "        vertical-align: top;\n",
       "    }\n",
       "\n",
       "    .dataframe thead th {\n",
       "        text-align: right;\n",
       "    }\n",
       "</style>\n",
       "<table border=\"1\" class=\"dataframe\">\n",
       "  <thead>\n",
       "    <tr style=\"text-align: right;\">\n",
       "      <th></th>\n",
       "      <th>고객ID</th>\n",
       "      <th>판매유형</th>\n",
       "      <th>계약유형</th>\n",
       "      <th>유통경로</th>\n",
       "      <th>계약일</th>\n",
       "      <th>계약기간</th>\n",
       "      <th>납부유형</th>\n",
       "      <th>제품군</th>\n",
       "      <th>월랜탈비용</th>\n",
       "      <th>계약상태</th>\n",
       "      <th>연체건수</th>\n",
       "      <th>연체여부</th>\n",
       "      <th>신용등급</th>\n",
       "      <th>결제은행</th>\n",
       "      <th>해약여부</th>\n",
       "    </tr>\n",
       "  </thead>\n",
       "  <tbody>\n",
       "    <tr>\n",
       "      <th>40</th>\n",
       "      <td>25742687</td>\n",
       "      <td>렌탈</td>\n",
       "      <td>일반</td>\n",
       "      <td>영업방판</td>\n",
       "      <td>25-10-2022</td>\n",
       "      <td>60</td>\n",
       "      <td>CMS</td>\n",
       "      <td>DES-2</td>\n",
       "      <td>96900</td>\n",
       "      <td>계약확정</td>\n",
       "      <td>0</td>\n",
       "      <td>없음</td>\n",
       "      <td>NaN</td>\n",
       "      <td>SC제일은행</td>\n",
       "      <td>정상</td>\n",
       "    </tr>\n",
       "    <tr>\n",
       "      <th>41</th>\n",
       "      <td>25742687</td>\n",
       "      <td>렌탈</td>\n",
       "      <td>일반</td>\n",
       "      <td>영업방판</td>\n",
       "      <td>25-10-2022</td>\n",
       "      <td>60</td>\n",
       "      <td>CMS</td>\n",
       "      <td>DES-2</td>\n",
       "      <td>96900</td>\n",
       "      <td>계약확정</td>\n",
       "      <td>0</td>\n",
       "      <td>없음</td>\n",
       "      <td>NaN</td>\n",
       "      <td>SC제일은행</td>\n",
       "      <td>정상</td>\n",
       "    </tr>\n",
       "    <tr>\n",
       "      <th>205</th>\n",
       "      <td>25777820</td>\n",
       "      <td>렌탈</td>\n",
       "      <td>프로모션</td>\n",
       "      <td>R유통사</td>\n",
       "      <td>25-10-2022</td>\n",
       "      <td>36</td>\n",
       "      <td>가상계좌</td>\n",
       "      <td>DES-1</td>\n",
       "      <td>180750</td>\n",
       "      <td>계약확정</td>\n",
       "      <td>1</td>\n",
       "      <td>있음</td>\n",
       "      <td>NaN</td>\n",
       "      <td>NaN</td>\n",
       "      <td>정상</td>\n",
       "    </tr>\n",
       "    <tr>\n",
       "      <th>206</th>\n",
       "      <td>25777820</td>\n",
       "      <td>렌탈</td>\n",
       "      <td>프로모션</td>\n",
       "      <td>R유통사</td>\n",
       "      <td>25-10-2022</td>\n",
       "      <td>36</td>\n",
       "      <td>가상계좌</td>\n",
       "      <td>DES-1</td>\n",
       "      <td>180750</td>\n",
       "      <td>계약확정</td>\n",
       "      <td>1</td>\n",
       "      <td>있음</td>\n",
       "      <td>NaN</td>\n",
       "      <td>NaN</td>\n",
       "      <td>정상</td>\n",
       "    </tr>\n",
       "    <tr>\n",
       "      <th>207</th>\n",
       "      <td>25777820</td>\n",
       "      <td>렌탈</td>\n",
       "      <td>프로모션</td>\n",
       "      <td>R유통사</td>\n",
       "      <td>25-10-2022</td>\n",
       "      <td>36</td>\n",
       "      <td>가상계좌</td>\n",
       "      <td>DES-1</td>\n",
       "      <td>180750</td>\n",
       "      <td>계약확정</td>\n",
       "      <td>1</td>\n",
       "      <td>있음</td>\n",
       "      <td>NaN</td>\n",
       "      <td>NaN</td>\n",
       "      <td>정상</td>\n",
       "    </tr>\n",
       "    <tr>\n",
       "      <th>...</th>\n",
       "      <td>...</td>\n",
       "      <td>...</td>\n",
       "      <td>...</td>\n",
       "      <td>...</td>\n",
       "      <td>...</td>\n",
       "      <td>...</td>\n",
       "      <td>...</td>\n",
       "      <td>...</td>\n",
       "      <td>...</td>\n",
       "      <td>...</td>\n",
       "      <td>...</td>\n",
       "      <td>...</td>\n",
       "      <td>...</td>\n",
       "      <td>...</td>\n",
       "      <td>...</td>\n",
       "    </tr>\n",
       "    <tr>\n",
       "      <th>51302</th>\n",
       "      <td>66579515</td>\n",
       "      <td>NaN</td>\n",
       "      <td>프로모션</td>\n",
       "      <td>R관리방판</td>\n",
       "      <td>07-02-2023</td>\n",
       "      <td>60</td>\n",
       "      <td>무통장</td>\n",
       "      <td>DES-3A</td>\n",
       "      <td>96900</td>\n",
       "      <td>계약확정</td>\n",
       "      <td>0</td>\n",
       "      <td>없음</td>\n",
       "      <td>NaN</td>\n",
       "      <td>롯데카드</td>\n",
       "      <td>정상</td>\n",
       "    </tr>\n",
       "    <tr>\n",
       "      <th>51303</th>\n",
       "      <td>66799558</td>\n",
       "      <td>렌탈</td>\n",
       "      <td>일반</td>\n",
       "      <td>영업방판</td>\n",
       "      <td>07-02-2023</td>\n",
       "      <td>60</td>\n",
       "      <td>카드이체</td>\n",
       "      <td>DES-1</td>\n",
       "      <td>96900</td>\n",
       "      <td>해약확정</td>\n",
       "      <td>0</td>\n",
       "      <td>없음</td>\n",
       "      <td>8.00000</td>\n",
       "      <td>롯데카드</td>\n",
       "      <td>해약</td>\n",
       "    </tr>\n",
       "    <tr>\n",
       "      <th>51304</th>\n",
       "      <td>66799197</td>\n",
       "      <td>렌탈</td>\n",
       "      <td>프로모션</td>\n",
       "      <td>홈쇼핑/방송</td>\n",
       "      <td>07-02-2023</td>\n",
       "      <td>39</td>\n",
       "      <td>무통장</td>\n",
       "      <td>ERA</td>\n",
       "      <td>120900</td>\n",
       "      <td>해약확정</td>\n",
       "      <td>0</td>\n",
       "      <td>없음</td>\n",
       "      <td>1.00000</td>\n",
       "      <td>NaN</td>\n",
       "      <td>해약</td>\n",
       "    </tr>\n",
       "    <tr>\n",
       "      <th>51305</th>\n",
       "      <td>66792778</td>\n",
       "      <td>NaN</td>\n",
       "      <td>일반</td>\n",
       "      <td>렌탈총판</td>\n",
       "      <td>07-02-2023</td>\n",
       "      <td>60</td>\n",
       "      <td>카드이체</td>\n",
       "      <td>DES-1</td>\n",
       "      <td>96900</td>\n",
       "      <td>계약확정</td>\n",
       "      <td>0</td>\n",
       "      <td>없음</td>\n",
       "      <td>2.00000</td>\n",
       "      <td>신한카드</td>\n",
       "      <td>정상</td>\n",
       "    </tr>\n",
       "    <tr>\n",
       "      <th>51306</th>\n",
       "      <td>66799607</td>\n",
       "      <td>렌탈</td>\n",
       "      <td>일반</td>\n",
       "      <td>하이마트</td>\n",
       "      <td>07-02-2023</td>\n",
       "      <td>60</td>\n",
       "      <td>CMS</td>\n",
       "      <td>DES-1</td>\n",
       "      <td>96900</td>\n",
       "      <td>해약확정</td>\n",
       "      <td>0</td>\n",
       "      <td>없음</td>\n",
       "      <td>8.00000</td>\n",
       "      <td>농협회원조합</td>\n",
       "      <td>해약</td>\n",
       "    </tr>\n",
       "  </tbody>\n",
       "</table>\n",
       "<p>1882 rows × 15 columns</p>\n",
       "</div>"
      ],
      "text/plain": [
       "           고객ID 판매유형  계약유형    유통경로         계약일  계약기간  납부유형     제품군   월랜탈비용  \\\n",
       "40     25742687   렌탈    일반    영업방판  25-10-2022    60   CMS   DES-2   96900   \n",
       "41     25742687   렌탈    일반    영업방판  25-10-2022    60   CMS   DES-2   96900   \n",
       "205    25777820   렌탈  프로모션    R유통사  25-10-2022    36  가상계좌   DES-1  180750   \n",
       "206    25777820   렌탈  프로모션    R유통사  25-10-2022    36  가상계좌   DES-1  180750   \n",
       "207    25777820   렌탈  프로모션    R유통사  25-10-2022    36  가상계좌   DES-1  180750   \n",
       "...         ...  ...   ...     ...         ...   ...   ...     ...     ...   \n",
       "51302  66579515  NaN  프로모션   R관리방판  07-02-2023    60   무통장  DES-3A   96900   \n",
       "51303  66799558   렌탈    일반    영업방판  07-02-2023    60  카드이체   DES-1   96900   \n",
       "51304  66799197   렌탈  프로모션  홈쇼핑/방송  07-02-2023    39   무통장     ERA  120900   \n",
       "51305  66792778  NaN    일반    렌탈총판  07-02-2023    60  카드이체   DES-1   96900   \n",
       "51306  66799607   렌탈    일반    하이마트  07-02-2023    60   CMS   DES-1   96900   \n",
       "\n",
       "       계약상태  연체건수 연체여부    신용등급    결제은행 해약여부  \n",
       "40     계약확정     0   없음     NaN  SC제일은행   정상  \n",
       "41     계약확정     0   없음     NaN  SC제일은행   정상  \n",
       "205    계약확정     1   있음     NaN     NaN   정상  \n",
       "206    계약확정     1   있음     NaN     NaN   정상  \n",
       "207    계약확정     1   있음     NaN     NaN   정상  \n",
       "...     ...   ...  ...     ...     ...  ...  \n",
       "51302  계약확정     0   없음     NaN    롯데카드   정상  \n",
       "51303  해약확정     0   없음 8.00000    롯데카드   해약  \n",
       "51304  해약확정     0   없음 1.00000     NaN   해약  \n",
       "51305  계약확정     0   없음 2.00000    신한카드   정상  \n",
       "51306  해약확정     0   없음 8.00000  농협회원조합   해약  \n",
       "\n",
       "[1882 rows x 15 columns]"
      ]
     },
     "execution_count": 211,
     "metadata": {},
     "output_type": "execute_result"
    }
   ],
   "source": [
    "sale[sale.duplicated(subset=['고객ID', '계약일', '제품군'], keep=False)]"
   ]
  },
  {
   "cell_type": "code",
   "execution_count": 212,
   "id": "a9921b7b-b4b0-4e9c-9ac5-5d8719abb7c9",
   "metadata": {},
   "outputs": [
    {
     "data": {
      "text/html": [
       "<div>\n",
       "<style scoped>\n",
       "    .dataframe tbody tr th:only-of-type {\n",
       "        vertical-align: middle;\n",
       "    }\n",
       "\n",
       "    .dataframe tbody tr th {\n",
       "        vertical-align: top;\n",
       "    }\n",
       "\n",
       "    .dataframe thead th {\n",
       "        text-align: right;\n",
       "    }\n",
       "</style>\n",
       "<table border=\"1\" class=\"dataframe\">\n",
       "  <thead>\n",
       "    <tr style=\"text-align: right;\">\n",
       "      <th></th>\n",
       "      <th>고객ID</th>\n",
       "      <th>판매유형</th>\n",
       "      <th>계약유형</th>\n",
       "      <th>유통경로</th>\n",
       "      <th>계약일</th>\n",
       "      <th>계약기간</th>\n",
       "      <th>납부유형</th>\n",
       "      <th>제품군</th>\n",
       "      <th>월랜탈비용</th>\n",
       "      <th>계약상태</th>\n",
       "      <th>연체건수</th>\n",
       "      <th>연체여부</th>\n",
       "      <th>신용등급</th>\n",
       "      <th>결제은행</th>\n",
       "      <th>해약여부</th>\n",
       "      <th>총 렌탈대수</th>\n",
       "    </tr>\n",
       "  </thead>\n",
       "  <tbody>\n",
       "    <tr>\n",
       "      <th>0</th>\n",
       "      <td>66758234</td>\n",
       "      <td>렌탈</td>\n",
       "      <td>일반</td>\n",
       "      <td>서비스 방문</td>\n",
       "      <td>24-10-2022</td>\n",
       "      <td>60</td>\n",
       "      <td>CMS</td>\n",
       "      <td>DES-1</td>\n",
       "      <td>96900</td>\n",
       "      <td>계약확정</td>\n",
       "      <td>0</td>\n",
       "      <td>없음</td>\n",
       "      <td>9.00000</td>\n",
       "      <td>새마을금고</td>\n",
       "      <td>정상</td>\n",
       "      <td>1.00000</td>\n",
       "    </tr>\n",
       "    <tr>\n",
       "      <th>1</th>\n",
       "      <td>66755948</td>\n",
       "      <td>렌탈</td>\n",
       "      <td>교체렌탈</td>\n",
       "      <td>서비스 방문</td>\n",
       "      <td>24-10-2022</td>\n",
       "      <td>60</td>\n",
       "      <td>카드이체</td>\n",
       "      <td>DES-1</td>\n",
       "      <td>102900</td>\n",
       "      <td>계약확정</td>\n",
       "      <td>0</td>\n",
       "      <td>없음</td>\n",
       "      <td>2.00000</td>\n",
       "      <td>현대카드</td>\n",
       "      <td>정상</td>\n",
       "      <td>1.00000</td>\n",
       "    </tr>\n",
       "    <tr>\n",
       "      <th>2</th>\n",
       "      <td>66756657</td>\n",
       "      <td>렌탈</td>\n",
       "      <td>일반</td>\n",
       "      <td>홈쇼핑/방송</td>\n",
       "      <td>24-10-2022</td>\n",
       "      <td>60</td>\n",
       "      <td>CMS</td>\n",
       "      <td>DES-1</td>\n",
       "      <td>96900</td>\n",
       "      <td>계약확정</td>\n",
       "      <td>0</td>\n",
       "      <td>없음</td>\n",
       "      <td>8.00000</td>\n",
       "      <td>우리은행</td>\n",
       "      <td>정상</td>\n",
       "      <td>1.00000</td>\n",
       "    </tr>\n",
       "    <tr>\n",
       "      <th>3</th>\n",
       "      <td>66423450</td>\n",
       "      <td>멤버십</td>\n",
       "      <td>멤버십S</td>\n",
       "      <td>렌탈재계약</td>\n",
       "      <td>24-10-2022</td>\n",
       "      <td>12</td>\n",
       "      <td>CMS</td>\n",
       "      <td>DES-1</td>\n",
       "      <td>66900</td>\n",
       "      <td>계약확정</td>\n",
       "      <td>0</td>\n",
       "      <td>없음</td>\n",
       "      <td>5.00000</td>\n",
       "      <td>농협회원조합</td>\n",
       "      <td>정상</td>\n",
       "      <td>1.00000</td>\n",
       "    </tr>\n",
       "    <tr>\n",
       "      <th>4</th>\n",
       "      <td>66423204</td>\n",
       "      <td>멤버십</td>\n",
       "      <td>멤버십S</td>\n",
       "      <td>렌탈재계약</td>\n",
       "      <td>24-10-2022</td>\n",
       "      <td>12</td>\n",
       "      <td>CMS</td>\n",
       "      <td>DES-1</td>\n",
       "      <td>66900</td>\n",
       "      <td>해약확정</td>\n",
       "      <td>12</td>\n",
       "      <td>있음</td>\n",
       "      <td>8.00000</td>\n",
       "      <td>농협회원조합</td>\n",
       "      <td>해약</td>\n",
       "      <td>1.00000</td>\n",
       "    </tr>\n",
       "    <tr>\n",
       "      <th>...</th>\n",
       "      <td>...</td>\n",
       "      <td>...</td>\n",
       "      <td>...</td>\n",
       "      <td>...</td>\n",
       "      <td>...</td>\n",
       "      <td>...</td>\n",
       "      <td>...</td>\n",
       "      <td>...</td>\n",
       "      <td>...</td>\n",
       "      <td>...</td>\n",
       "      <td>...</td>\n",
       "      <td>...</td>\n",
       "      <td>...</td>\n",
       "      <td>...</td>\n",
       "      <td>...</td>\n",
       "      <td>...</td>\n",
       "    </tr>\n",
       "    <tr>\n",
       "      <th>51302</th>\n",
       "      <td>66579515</td>\n",
       "      <td>NaN</td>\n",
       "      <td>프로모션</td>\n",
       "      <td>R관리방판</td>\n",
       "      <td>07-02-2023</td>\n",
       "      <td>60</td>\n",
       "      <td>무통장</td>\n",
       "      <td>DES-3A</td>\n",
       "      <td>96900</td>\n",
       "      <td>계약확정</td>\n",
       "      <td>0</td>\n",
       "      <td>없음</td>\n",
       "      <td>NaN</td>\n",
       "      <td>롯데카드</td>\n",
       "      <td>정상</td>\n",
       "      <td>2.00000</td>\n",
       "    </tr>\n",
       "    <tr>\n",
       "      <th>51303</th>\n",
       "      <td>66799558</td>\n",
       "      <td>렌탈</td>\n",
       "      <td>일반</td>\n",
       "      <td>영업방판</td>\n",
       "      <td>07-02-2023</td>\n",
       "      <td>60</td>\n",
       "      <td>카드이체</td>\n",
       "      <td>DES-1</td>\n",
       "      <td>96900</td>\n",
       "      <td>해약확정</td>\n",
       "      <td>0</td>\n",
       "      <td>없음</td>\n",
       "      <td>8.00000</td>\n",
       "      <td>롯데카드</td>\n",
       "      <td>해약</td>\n",
       "      <td>2.00000</td>\n",
       "    </tr>\n",
       "    <tr>\n",
       "      <th>51304</th>\n",
       "      <td>66799197</td>\n",
       "      <td>렌탈</td>\n",
       "      <td>프로모션</td>\n",
       "      <td>홈쇼핑/방송</td>\n",
       "      <td>07-02-2023</td>\n",
       "      <td>39</td>\n",
       "      <td>무통장</td>\n",
       "      <td>ERA</td>\n",
       "      <td>120900</td>\n",
       "      <td>해약확정</td>\n",
       "      <td>0</td>\n",
       "      <td>없음</td>\n",
       "      <td>1.00000</td>\n",
       "      <td>NaN</td>\n",
       "      <td>해약</td>\n",
       "      <td>2.00000</td>\n",
       "    </tr>\n",
       "    <tr>\n",
       "      <th>51305</th>\n",
       "      <td>66792778</td>\n",
       "      <td>NaN</td>\n",
       "      <td>일반</td>\n",
       "      <td>렌탈총판</td>\n",
       "      <td>07-02-2023</td>\n",
       "      <td>60</td>\n",
       "      <td>카드이체</td>\n",
       "      <td>DES-1</td>\n",
       "      <td>96900</td>\n",
       "      <td>계약확정</td>\n",
       "      <td>0</td>\n",
       "      <td>없음</td>\n",
       "      <td>2.00000</td>\n",
       "      <td>신한카드</td>\n",
       "      <td>정상</td>\n",
       "      <td>2.00000</td>\n",
       "    </tr>\n",
       "    <tr>\n",
       "      <th>51306</th>\n",
       "      <td>66799607</td>\n",
       "      <td>렌탈</td>\n",
       "      <td>일반</td>\n",
       "      <td>하이마트</td>\n",
       "      <td>07-02-2023</td>\n",
       "      <td>60</td>\n",
       "      <td>CMS</td>\n",
       "      <td>DES-1</td>\n",
       "      <td>96900</td>\n",
       "      <td>해약확정</td>\n",
       "      <td>0</td>\n",
       "      <td>없음</td>\n",
       "      <td>8.00000</td>\n",
       "      <td>농협회원조합</td>\n",
       "      <td>해약</td>\n",
       "      <td>2.00000</td>\n",
       "    </tr>\n",
       "  </tbody>\n",
       "</table>\n",
       "<p>51307 rows × 16 columns</p>\n",
       "</div>"
      ],
      "text/plain": [
       "           고객ID 판매유형  계약유형    유통경로         계약일  계약기간  납부유형     제품군   월랜탈비용  \\\n",
       "0      66758234   렌탈    일반  서비스 방문  24-10-2022    60   CMS   DES-1   96900   \n",
       "1      66755948   렌탈  교체렌탈  서비스 방문  24-10-2022    60  카드이체   DES-1  102900   \n",
       "2      66756657   렌탈    일반  홈쇼핑/방송  24-10-2022    60   CMS   DES-1   96900   \n",
       "3      66423450  멤버십  멤버십S   렌탈재계약  24-10-2022    12   CMS   DES-1   66900   \n",
       "4      66423204  멤버십  멤버십S   렌탈재계약  24-10-2022    12   CMS   DES-1   66900   \n",
       "...         ...  ...   ...     ...         ...   ...   ...     ...     ...   \n",
       "51302  66579515  NaN  프로모션   R관리방판  07-02-2023    60   무통장  DES-3A   96900   \n",
       "51303  66799558   렌탈    일반    영업방판  07-02-2023    60  카드이체   DES-1   96900   \n",
       "51304  66799197   렌탈  프로모션  홈쇼핑/방송  07-02-2023    39   무통장     ERA  120900   \n",
       "51305  66792778  NaN    일반    렌탈총판  07-02-2023    60  카드이체   DES-1   96900   \n",
       "51306  66799607   렌탈    일반    하이마트  07-02-2023    60   CMS   DES-1   96900   \n",
       "\n",
       "       계약상태  연체건수 연체여부    신용등급    결제은행 해약여부  총 렌탈대수  \n",
       "0      계약확정     0   없음 9.00000   새마을금고   정상 1.00000  \n",
       "1      계약확정     0   없음 2.00000    현대카드   정상 1.00000  \n",
       "2      계약확정     0   없음 8.00000    우리은행   정상 1.00000  \n",
       "3      계약확정     0   없음 5.00000  농협회원조합   정상 1.00000  \n",
       "4      해약확정    12   있음 8.00000  농협회원조합   해약 1.00000  \n",
       "...     ...   ...  ...     ...     ...  ...     ...  \n",
       "51302  계약확정     0   없음     NaN    롯데카드   정상 2.00000  \n",
       "51303  해약확정     0   없음 8.00000    롯데카드   해약 2.00000  \n",
       "51304  해약확정     0   없음 1.00000     NaN   해약 2.00000  \n",
       "51305  계약확정     0   없음 2.00000    신한카드   정상 2.00000  \n",
       "51306  해약확정     0   없음 8.00000  농협회원조합   해약 2.00000  \n",
       "\n",
       "[51307 rows x 16 columns]"
      ]
     },
     "execution_count": 212,
     "metadata": {},
     "output_type": "execute_result"
    }
   ],
   "source": [
    "sale['총 렌탈대수'] = sale.groupby(['고객ID', '계약일', '제품군'])['고객ID'].transform('count')\n",
    "sale"
   ]
  },
  {
   "cell_type": "code",
   "execution_count": 213,
   "id": "ce025623-d664-467c-a4d5-74779c2ad71b",
   "metadata": {},
   "outputs": [],
   "source": [
    "grouped_df = sale.groupby(['고객ID', '계약일', '제품군'])\n",
    "\n",
    "# 그룹화된 데이터프레임 확인\n",
    "# for name, group in grouped_df:\n",
    "#     print(f\"Group Name: {name}\")\n",
    "#     display(group)\n",
    "#     print(\"\\n\")"
   ]
  },
  {
   "cell_type": "code",
   "execution_count": 214,
   "id": "6d0a2f45-1f3c-469b-915e-84c29be65d1e",
   "metadata": {},
   "outputs": [
    {
     "data": {
      "text/plain": [
       "array([ 1.,  2.,  5., nan,  6.,  3.,  4.,  9.,  8., 16.,  7., 21., 11.,\n",
       "       14., 10., 13., 17., 15., 12., 18.])"
      ]
     },
     "execution_count": 214,
     "metadata": {},
     "output_type": "execute_result"
    }
   ],
   "source": [
    "sale[\"총 렌탈대수\"].unique()"
   ]
  },
  {
   "cell_type": "code",
   "execution_count": 215,
   "id": "99ecade9-87a3-4641-9f79-48ac4515cd34",
   "metadata": {},
   "outputs": [
    {
     "data": {
      "text/html": [
       "<div>\n",
       "<style scoped>\n",
       "    .dataframe tbody tr th:only-of-type {\n",
       "        vertical-align: middle;\n",
       "    }\n",
       "\n",
       "    .dataframe tbody tr th {\n",
       "        vertical-align: top;\n",
       "    }\n",
       "\n",
       "    .dataframe thead th {\n",
       "        text-align: right;\n",
       "    }\n",
       "</style>\n",
       "<table border=\"1\" class=\"dataframe\">\n",
       "  <thead>\n",
       "    <tr style=\"text-align: right;\">\n",
       "      <th></th>\n",
       "      <th>고객ID</th>\n",
       "      <th>판매유형</th>\n",
       "      <th>계약유형</th>\n",
       "      <th>유통경로</th>\n",
       "      <th>계약일</th>\n",
       "      <th>계약기간</th>\n",
       "      <th>납부유형</th>\n",
       "      <th>제품군</th>\n",
       "      <th>월랜탈비용</th>\n",
       "      <th>계약상태</th>\n",
       "      <th>연체건수</th>\n",
       "      <th>연체여부</th>\n",
       "      <th>신용등급</th>\n",
       "      <th>결제은행</th>\n",
       "      <th>해약여부</th>\n",
       "      <th>총 렌탈대수</th>\n",
       "    </tr>\n",
       "  </thead>\n",
       "  <tbody>\n",
       "    <tr>\n",
       "      <th>277</th>\n",
       "      <td>66758695</td>\n",
       "      <td>렌탈</td>\n",
       "      <td>일반</td>\n",
       "      <td>홈쇼핑/방송</td>\n",
       "      <td>25-10-2022</td>\n",
       "      <td>60</td>\n",
       "      <td>CMS</td>\n",
       "      <td>NaN</td>\n",
       "      <td>96900</td>\n",
       "      <td>계약확정</td>\n",
       "      <td>0</td>\n",
       "      <td>없음</td>\n",
       "      <td>2.00000</td>\n",
       "      <td>부산은행</td>\n",
       "      <td>정상</td>\n",
       "      <td>NaN</td>\n",
       "    </tr>\n",
       "  </tbody>\n",
       "</table>\n",
       "</div>"
      ],
      "text/plain": [
       "         고객ID 판매유형 계약유형    유통경로         계약일  계약기간 납부유형  제품군  월랜탈비용  계약상태  \\\n",
       "277  66758695   렌탈   일반  홈쇼핑/방송  25-10-2022    60  CMS  NaN  96900  계약확정   \n",
       "\n",
       "     연체건수 연체여부    신용등급  결제은행 해약여부  총 렌탈대수  \n",
       "277     0   없음 2.00000  부산은행   정상     NaN  "
      ]
     },
     "execution_count": 215,
     "metadata": {},
     "output_type": "execute_result"
    }
   ],
   "source": [
    "sale[sale[\"총 렌탈대수\"].isna()]"
   ]
  },
  {
   "cell_type": "markdown",
   "id": "01ecd8c4-638e-412c-9527-c92e26f2c3c2",
   "metadata": {
    "jp-MarkdownHeadingCollapsed": true
   },
   "source": [
    "## business"
   ]
  },
  {
   "cell_type": "code",
   "execution_count": 216,
   "id": "a7df6057-9df2-48ca-88c4-634cb7dd514d",
   "metadata": {},
   "outputs": [],
   "source": [
    "business= pd.read_csv(\"/home/piai/바탕화면/BigData_Project/rental_Project/dataFolder/02 rental_member_data_business.csv\", encoding = 'utf-8')\n",
    "# business"
   ]
  },
  {
   "cell_type": "code",
   "execution_count": 217,
   "id": "998c1a3f-40ba-42df-ba36-44757c3bc854",
   "metadata": {},
   "outputs": [
    {
     "data": {
      "text/html": [
       "<div>\n",
       "<style scoped>\n",
       "    .dataframe tbody tr th:only-of-type {\n",
       "        vertical-align: middle;\n",
       "    }\n",
       "\n",
       "    .dataframe tbody tr th {\n",
       "        vertical-align: top;\n",
       "    }\n",
       "\n",
       "    .dataframe thead th {\n",
       "        text-align: right;\n",
       "    }\n",
       "</style>\n",
       "<table border=\"1\" class=\"dataframe\">\n",
       "  <thead>\n",
       "    <tr style=\"text-align: right;\">\n",
       "      <th></th>\n",
       "      <th>고객ID</th>\n",
       "      <th>고객유형</th>\n",
       "      <th>생년</th>\n",
       "      <th>생월</th>\n",
       "      <th>거주지</th>\n",
       "      <th>시</th>\n",
       "      <th>구군</th>\n",
       "      <th>남여구분</th>\n",
       "    </tr>\n",
       "  </thead>\n",
       "  <tbody>\n",
       "  </tbody>\n",
       "</table>\n",
       "</div>"
      ],
      "text/plain": [
       "Empty DataFrame\n",
       "Columns: [고객ID, 고객유형, 생년, 생월, 거주지, 시, 구군, 남여구분]\n",
       "Index: []"
      ]
     },
     "execution_count": 217,
     "metadata": {},
     "output_type": "execute_result"
    }
   ],
   "source": [
    "business[business.duplicated()]"
   ]
  },
  {
   "cell_type": "code",
   "execution_count": 218,
   "id": "98afa5dd-e6ee-47ec-9aab-236b11ff94b3",
   "metadata": {},
   "outputs": [
    {
     "data": {
      "text/html": [
       "<div>\n",
       "<style scoped>\n",
       "    .dataframe tbody tr th:only-of-type {\n",
       "        vertical-align: middle;\n",
       "    }\n",
       "\n",
       "    .dataframe tbody tr th {\n",
       "        vertical-align: top;\n",
       "    }\n",
       "\n",
       "    .dataframe thead th {\n",
       "        text-align: right;\n",
       "    }\n",
       "</style>\n",
       "<table border=\"1\" class=\"dataframe\">\n",
       "  <thead>\n",
       "    <tr style=\"text-align: right;\">\n",
       "      <th></th>\n",
       "      <th>고객ID</th>\n",
       "      <th>고객유형</th>\n",
       "      <th>생년</th>\n",
       "      <th>생월</th>\n",
       "      <th>거주지</th>\n",
       "      <th>시</th>\n",
       "      <th>구군</th>\n",
       "      <th>남여구분</th>\n",
       "    </tr>\n",
       "  </thead>\n",
       "  <tbody>\n",
       "    <tr>\n",
       "      <th>17</th>\n",
       "      <td>25777820</td>\n",
       "      <td>사업자</td>\n",
       "      <td>NaN</td>\n",
       "      <td>NaN</td>\n",
       "      <td>경기도</td>\n",
       "      <td>경기도</td>\n",
       "      <td>남양주시</td>\n",
       "      <td>여자</td>\n",
       "    </tr>\n",
       "  </tbody>\n",
       "</table>\n",
       "</div>"
      ],
      "text/plain": [
       "        고객ID  고객유형  생년  생월  거주지    시     구군 남여구분\n",
       "17  25777820   사업자 NaN NaN  경기도  경기도   남양주시   여자"
      ]
     },
     "execution_count": 218,
     "metadata": {},
     "output_type": "execute_result"
    }
   ],
   "source": [
    "business[business[\"고객ID\"] == 25777820]"
   ]
  },
  {
   "cell_type": "code",
   "execution_count": 219,
   "id": "d6c818ce-ec37-4990-ba07-aa2dc60b1b34",
   "metadata": {},
   "outputs": [
    {
     "data": {
      "text/plain": [
       "array([66758487, 66760104, 66251159, 66764979, 66167264, 66777811,\n",
       "       66785171, 66721723, 66795951, 66798213])"
      ]
     },
     "execution_count": 219,
     "metadata": {},
     "output_type": "execute_result"
    }
   ],
   "source": [
    "business[~business['고객ID'].astype(str).str.startswith('2')][\"고객ID\"].values"
   ]
  },
  {
   "cell_type": "markdown",
   "id": "b1efe31e-f59d-412b-bb67-73a65563e1b2",
   "metadata": {
    "jp-MarkdownHeadingCollapsed": true
   },
   "source": [
    "## personal"
   ]
  },
  {
   "cell_type": "code",
   "execution_count": 220,
   "id": "8a2867aa-4f7d-4a3a-b747-324f1b7ecb23",
   "metadata": {},
   "outputs": [
    {
     "data": {
      "text/html": [
       "<div>\n",
       "<style scoped>\n",
       "    .dataframe tbody tr th:only-of-type {\n",
       "        vertical-align: middle;\n",
       "    }\n",
       "\n",
       "    .dataframe tbody tr th {\n",
       "        vertical-align: top;\n",
       "    }\n",
       "\n",
       "    .dataframe thead th {\n",
       "        text-align: right;\n",
       "    }\n",
       "</style>\n",
       "<table border=\"1\" class=\"dataframe\">\n",
       "  <thead>\n",
       "    <tr style=\"text-align: right;\">\n",
       "      <th></th>\n",
       "      <th>고객ID</th>\n",
       "      <th>고객유형</th>\n",
       "      <th>생년</th>\n",
       "      <th>생월</th>\n",
       "      <th>거주지</th>\n",
       "      <th>시</th>\n",
       "      <th>구군</th>\n",
       "      <th>남여구분</th>\n",
       "    </tr>\n",
       "  </thead>\n",
       "  <tbody>\n",
       "    <tr>\n",
       "      <th>0</th>\n",
       "      <td>66758234</td>\n",
       "      <td>개인</td>\n",
       "      <td>1979.00000</td>\n",
       "      <td>12.00000</td>\n",
       "      <td>경기도</td>\n",
       "      <td>경기도</td>\n",
       "      <td>평택시</td>\n",
       "      <td>여자</td>\n",
       "    </tr>\n",
       "    <tr>\n",
       "      <th>1</th>\n",
       "      <td>66755948</td>\n",
       "      <td>개인</td>\n",
       "      <td>1982.00000</td>\n",
       "      <td>7.00000</td>\n",
       "      <td>경기도</td>\n",
       "      <td>경기도</td>\n",
       "      <td>평택시</td>\n",
       "      <td>남자</td>\n",
       "    </tr>\n",
       "    <tr>\n",
       "      <th>2</th>\n",
       "      <td>66756657</td>\n",
       "      <td>개인</td>\n",
       "      <td>1973.00000</td>\n",
       "      <td>4.00000</td>\n",
       "      <td>경기도</td>\n",
       "      <td>경기도</td>\n",
       "      <td>평택시</td>\n",
       "      <td>여자</td>\n",
       "    </tr>\n",
       "    <tr>\n",
       "      <th>3</th>\n",
       "      <td>66423450</td>\n",
       "      <td>개인</td>\n",
       "      <td>1982.00000</td>\n",
       "      <td>11.00000</td>\n",
       "      <td>경기도</td>\n",
       "      <td>경기도</td>\n",
       "      <td>포천시</td>\n",
       "      <td>남자</td>\n",
       "    </tr>\n",
       "    <tr>\n",
       "      <th>4</th>\n",
       "      <td>66423204</td>\n",
       "      <td>개인</td>\n",
       "      <td>1961.00000</td>\n",
       "      <td>11.00000</td>\n",
       "      <td>경기도</td>\n",
       "      <td>경기도</td>\n",
       "      <td>포천시</td>\n",
       "      <td>남자</td>\n",
       "    </tr>\n",
       "    <tr>\n",
       "      <th>...</th>\n",
       "      <td>...</td>\n",
       "      <td>...</td>\n",
       "      <td>...</td>\n",
       "      <td>...</td>\n",
       "      <td>...</td>\n",
       "      <td>...</td>\n",
       "      <td>...</td>\n",
       "      <td>...</td>\n",
       "    </tr>\n",
       "    <tr>\n",
       "      <th>40041</th>\n",
       "      <td>66579515</td>\n",
       "      <td>개인</td>\n",
       "      <td>1974.00000</td>\n",
       "      <td>7.00000</td>\n",
       "      <td>경기도</td>\n",
       "      <td>경기도</td>\n",
       "      <td>성남시 중원구</td>\n",
       "      <td>남자</td>\n",
       "    </tr>\n",
       "    <tr>\n",
       "      <th>40042</th>\n",
       "      <td>66799558</td>\n",
       "      <td>개인</td>\n",
       "      <td>1979.00000</td>\n",
       "      <td>10.00000</td>\n",
       "      <td>경기도</td>\n",
       "      <td>경기도</td>\n",
       "      <td>성남시 중원구</td>\n",
       "      <td>여자</td>\n",
       "    </tr>\n",
       "    <tr>\n",
       "      <th>40043</th>\n",
       "      <td>66799197</td>\n",
       "      <td>개인</td>\n",
       "      <td>1956.00000</td>\n",
       "      <td>4.00000</td>\n",
       "      <td>서울특별시</td>\n",
       "      <td>서울특별시</td>\n",
       "      <td>성동구</td>\n",
       "      <td>여자</td>\n",
       "    </tr>\n",
       "    <tr>\n",
       "      <th>40044</th>\n",
       "      <td>66792778</td>\n",
       "      <td>개인</td>\n",
       "      <td>1967.00000</td>\n",
       "      <td>10.00000</td>\n",
       "      <td>서울특별시</td>\n",
       "      <td>서울특별시</td>\n",
       "      <td>성동구</td>\n",
       "      <td>여자</td>\n",
       "    </tr>\n",
       "    <tr>\n",
       "      <th>40045</th>\n",
       "      <td>66799607</td>\n",
       "      <td>개인</td>\n",
       "      <td>1968.00000</td>\n",
       "      <td>3.00000</td>\n",
       "      <td>서울특별시</td>\n",
       "      <td>서울특별시</td>\n",
       "      <td>성동구</td>\n",
       "      <td>여자</td>\n",
       "    </tr>\n",
       "  </tbody>\n",
       "</table>\n",
       "<p>40046 rows × 8 columns</p>\n",
       "</div>"
      ],
      "text/plain": [
       "           고객ID 고객유형         생년       생월    거주지      시        구군 남여구분\n",
       "0      66758234   개인 1979.00000 12.00000    경기도    경기도       평택시   여자\n",
       "1      66755948   개인 1982.00000  7.00000    경기도    경기도       평택시   남자\n",
       "2      66756657   개인 1973.00000  4.00000    경기도    경기도       평택시   여자\n",
       "3      66423450   개인 1982.00000 11.00000    경기도    경기도       포천시   남자\n",
       "4      66423204   개인 1961.00000 11.00000    경기도    경기도       포천시   남자\n",
       "...         ...  ...        ...      ...    ...    ...       ...  ...\n",
       "40041  66579515   개인 1974.00000  7.00000    경기도    경기도   성남시 중원구   남자\n",
       "40042  66799558   개인 1979.00000 10.00000    경기도    경기도   성남시 중원구   여자\n",
       "40043  66799197   개인 1956.00000  4.00000  서울특별시  서울특별시       성동구   여자\n",
       "40044  66792778   개인 1967.00000 10.00000  서울특별시  서울특별시       성동구   여자\n",
       "40045  66799607   개인 1968.00000  3.00000  서울특별시  서울특별시       성동구   여자\n",
       "\n",
       "[40046 rows x 8 columns]"
      ]
     },
     "execution_count": 220,
     "metadata": {},
     "output_type": "execute_result"
    }
   ],
   "source": [
    "personal= pd.read_csv(\"/home/piai/바탕화면/BigData_Project/rental_Project/dataFolder/03 rental_member_data_personal.csv\", encoding = 'utf-8')\n",
    "personal"
   ]
  },
  {
   "cell_type": "code",
   "execution_count": 221,
   "id": "8d2027b9-d190-4825-9b14-76db55312cba",
   "metadata": {},
   "outputs": [
    {
     "data": {
      "text/html": [
       "<div>\n",
       "<style scoped>\n",
       "    .dataframe tbody tr th:only-of-type {\n",
       "        vertical-align: middle;\n",
       "    }\n",
       "\n",
       "    .dataframe tbody tr th {\n",
       "        vertical-align: top;\n",
       "    }\n",
       "\n",
       "    .dataframe thead th {\n",
       "        text-align: right;\n",
       "    }\n",
       "</style>\n",
       "<table border=\"1\" class=\"dataframe\">\n",
       "  <thead>\n",
       "    <tr style=\"text-align: right;\">\n",
       "      <th></th>\n",
       "      <th>고객ID</th>\n",
       "      <th>생년</th>\n",
       "      <th>생월</th>\n",
       "    </tr>\n",
       "  </thead>\n",
       "  <tbody>\n",
       "    <tr>\n",
       "      <th>count</th>\n",
       "      <td>40046.00000</td>\n",
       "      <td>36245.00000</td>\n",
       "      <td>36245.00000</td>\n",
       "    </tr>\n",
       "    <tr>\n",
       "      <th>mean</th>\n",
       "      <td>66662088.19910</td>\n",
       "      <td>2031.43112</td>\n",
       "      <td>6.27951</td>\n",
       "    </tr>\n",
       "    <tr>\n",
       "      <th>std</th>\n",
       "      <td>351680.80090</td>\n",
       "      <td>10546.16926</td>\n",
       "      <td>3.56530</td>\n",
       "    </tr>\n",
       "    <tr>\n",
       "      <th>min</th>\n",
       "      <td>25741496.00000</td>\n",
       "      <td>195.00000</td>\n",
       "      <td>1.00000</td>\n",
       "    </tr>\n",
       "    <tr>\n",
       "      <th>25%</th>\n",
       "      <td>66597707.75000</td>\n",
       "      <td>1964.00000</td>\n",
       "      <td>3.00000</td>\n",
       "    </tr>\n",
       "    <tr>\n",
       "      <th>50%</th>\n",
       "      <td>66768575.00000</td>\n",
       "      <td>1972.00000</td>\n",
       "      <td>6.00000</td>\n",
       "    </tr>\n",
       "    <tr>\n",
       "      <th>75%</th>\n",
       "      <td>66783600.75000</td>\n",
       "      <td>1979.00000</td>\n",
       "      <td>9.00000</td>\n",
       "    </tr>\n",
       "    <tr>\n",
       "      <th>max</th>\n",
       "      <td>66969860.00000</td>\n",
       "      <td>1999978.00000</td>\n",
       "      <td>12.00000</td>\n",
       "    </tr>\n",
       "  </tbody>\n",
       "</table>\n",
       "</div>"
      ],
      "text/plain": [
       "                고객ID            생년          생월\n",
       "count    40046.00000   36245.00000 36245.00000\n",
       "mean  66662088.19910    2031.43112     6.27951\n",
       "std     351680.80090   10546.16926     3.56530\n",
       "min   25741496.00000     195.00000     1.00000\n",
       "25%   66597707.75000    1964.00000     3.00000\n",
       "50%   66768575.00000    1972.00000     6.00000\n",
       "75%   66783600.75000    1979.00000     9.00000\n",
       "max   66969860.00000 1999978.00000    12.00000"
      ]
     },
     "execution_count": 221,
     "metadata": {},
     "output_type": "execute_result"
    }
   ],
   "source": [
    "personal.describe()"
   ]
  },
  {
   "cell_type": "code",
   "execution_count": 222,
   "id": "b4ebd203-df97-4116-8775-8415c99b966b",
   "metadata": {},
   "outputs": [
    {
     "data": {
      "text/html": [
       "<div>\n",
       "<style scoped>\n",
       "    .dataframe tbody tr th:only-of-type {\n",
       "        vertical-align: middle;\n",
       "    }\n",
       "\n",
       "    .dataframe tbody tr th {\n",
       "        vertical-align: top;\n",
       "    }\n",
       "\n",
       "    .dataframe thead th {\n",
       "        text-align: right;\n",
       "    }\n",
       "</style>\n",
       "<table border=\"1\" class=\"dataframe\">\n",
       "  <thead>\n",
       "    <tr style=\"text-align: right;\">\n",
       "      <th></th>\n",
       "      <th>고객ID</th>\n",
       "      <th>고객유형</th>\n",
       "      <th>생년</th>\n",
       "      <th>생월</th>\n",
       "      <th>거주지</th>\n",
       "      <th>시</th>\n",
       "      <th>구군</th>\n",
       "      <th>남여구분</th>\n",
       "    </tr>\n",
       "  </thead>\n",
       "  <tbody>\n",
       "    <tr>\n",
       "      <th>7962</th>\n",
       "      <td>25741496</td>\n",
       "      <td>개인</td>\n",
       "      <td>1965.00000</td>\n",
       "      <td>1.00000</td>\n",
       "      <td>서울특별시</td>\n",
       "      <td>서울특별시</td>\n",
       "      <td>성북구</td>\n",
       "      <td>남자</td>\n",
       "    </tr>\n",
       "    <tr>\n",
       "      <th>26892</th>\n",
       "      <td>25749146</td>\n",
       "      <td>개인</td>\n",
       "      <td>1983.00000</td>\n",
       "      <td>1.00000</td>\n",
       "      <td>전라도</td>\n",
       "      <td>광주광역시</td>\n",
       "      <td>동구</td>\n",
       "      <td>남자</td>\n",
       "    </tr>\n",
       "  </tbody>\n",
       "</table>\n",
       "</div>"
      ],
      "text/plain": [
       "           고객ID 고객유형         생년      생월    거주지      시    구군 남여구분\n",
       "7962   25741496   개인 1965.00000 1.00000  서울특별시  서울특별시   성북구   남자\n",
       "26892  25749146   개인 1983.00000 1.00000    전라도  광주광역시    동구   남자"
      ]
     },
     "execution_count": 222,
     "metadata": {},
     "output_type": "execute_result"
    }
   ],
   "source": [
    "personal[~personal['고객ID'].astype(str).str.startswith('6')]"
   ]
  },
  {
   "cell_type": "markdown",
   "id": "09d38b40-2b35-4be2-814b-f3a26a1ee250",
   "metadata": {},
   "source": [
    "# 합치기"
   ]
  },
  {
   "cell_type": "code",
   "execution_count": 223,
   "id": "16cc34a6-f469-433b-8b15-8164c35ec48e",
   "metadata": {},
   "outputs": [
    {
     "data": {
      "text/plain": [
       "3590"
      ]
     },
     "execution_count": 223,
     "metadata": {},
     "output_type": "execute_result"
    }
   ],
   "source": [
    "business['고객ID'].isin(sale['고객ID']).sum()"
   ]
  },
  {
   "cell_type": "code",
   "execution_count": 224,
   "id": "f35a4351-44c9-4625-be56-48dbf3a74d95",
   "metadata": {},
   "outputs": [
    {
     "data": {
      "text/plain": [
       "40046"
      ]
     },
     "execution_count": 224,
     "metadata": {},
     "output_type": "execute_result"
    }
   ],
   "source": [
    "personal['고객ID'].isin(sale['고객ID']).sum()"
   ]
  },
  {
   "cell_type": "code",
   "execution_count": 225,
   "id": "f648424b-8348-462a-bba9-695cda41301d",
   "metadata": {},
   "outputs": [
    {
     "data": {
      "text/html": [
       "<div>\n",
       "<style scoped>\n",
       "    .dataframe tbody tr th:only-of-type {\n",
       "        vertical-align: middle;\n",
       "    }\n",
       "\n",
       "    .dataframe tbody tr th {\n",
       "        vertical-align: top;\n",
       "    }\n",
       "\n",
       "    .dataframe thead th {\n",
       "        text-align: right;\n",
       "    }\n",
       "</style>\n",
       "<table border=\"1\" class=\"dataframe\">\n",
       "  <thead>\n",
       "    <tr style=\"text-align: right;\">\n",
       "      <th></th>\n",
       "      <th>고객ID</th>\n",
       "      <th>고객유형</th>\n",
       "      <th>생년</th>\n",
       "      <th>생월</th>\n",
       "      <th>거주지</th>\n",
       "      <th>시</th>\n",
       "      <th>구군</th>\n",
       "      <th>남여구분</th>\n",
       "    </tr>\n",
       "  </thead>\n",
       "  <tbody>\n",
       "    <tr>\n",
       "      <th>0</th>\n",
       "      <td>25702131</td>\n",
       "      <td>사업자</td>\n",
       "      <td>NaN</td>\n",
       "      <td>NaN</td>\n",
       "      <td>경기도</td>\n",
       "      <td>경기도</td>\n",
       "      <td>화성시</td>\n",
       "      <td>여자</td>\n",
       "    </tr>\n",
       "    <tr>\n",
       "      <th>1</th>\n",
       "      <td>25742841</td>\n",
       "      <td>사업자</td>\n",
       "      <td>1964.00000</td>\n",
       "      <td>8.00000</td>\n",
       "      <td>경기도</td>\n",
       "      <td>경기도</td>\n",
       "      <td>가평군</td>\n",
       "      <td>여자</td>\n",
       "    </tr>\n",
       "    <tr>\n",
       "      <th>2</th>\n",
       "      <td>25742683</td>\n",
       "      <td>사업자</td>\n",
       "      <td>1973.00000</td>\n",
       "      <td>12.00000</td>\n",
       "      <td>서울특별시</td>\n",
       "      <td>서울특별시</td>\n",
       "      <td>강남구</td>\n",
       "      <td>여자</td>\n",
       "    </tr>\n",
       "    <tr>\n",
       "      <th>3</th>\n",
       "      <td>25851817</td>\n",
       "      <td>사업자</td>\n",
       "      <td>NaN</td>\n",
       "      <td>NaN</td>\n",
       "      <td>서울특별시</td>\n",
       "      <td>서울특별시</td>\n",
       "      <td>강남구</td>\n",
       "      <td>여자</td>\n",
       "    </tr>\n",
       "    <tr>\n",
       "      <th>4</th>\n",
       "      <td>25742687</td>\n",
       "      <td>사업자</td>\n",
       "      <td>1958.00000</td>\n",
       "      <td>6.00000</td>\n",
       "      <td>서울특별시</td>\n",
       "      <td>서울특별시</td>\n",
       "      <td>강남구</td>\n",
       "      <td>여자</td>\n",
       "    </tr>\n",
       "    <tr>\n",
       "      <th>...</th>\n",
       "      <td>...</td>\n",
       "      <td>...</td>\n",
       "      <td>...</td>\n",
       "      <td>...</td>\n",
       "      <td>...</td>\n",
       "      <td>...</td>\n",
       "      <td>...</td>\n",
       "      <td>...</td>\n",
       "    </tr>\n",
       "    <tr>\n",
       "      <th>40041</th>\n",
       "      <td>66579515</td>\n",
       "      <td>개인</td>\n",
       "      <td>1974.00000</td>\n",
       "      <td>7.00000</td>\n",
       "      <td>경기도</td>\n",
       "      <td>경기도</td>\n",
       "      <td>성남시 중원구</td>\n",
       "      <td>남자</td>\n",
       "    </tr>\n",
       "    <tr>\n",
       "      <th>40042</th>\n",
       "      <td>66799558</td>\n",
       "      <td>개인</td>\n",
       "      <td>1979.00000</td>\n",
       "      <td>10.00000</td>\n",
       "      <td>경기도</td>\n",
       "      <td>경기도</td>\n",
       "      <td>성남시 중원구</td>\n",
       "      <td>여자</td>\n",
       "    </tr>\n",
       "    <tr>\n",
       "      <th>40043</th>\n",
       "      <td>66799197</td>\n",
       "      <td>개인</td>\n",
       "      <td>1956.00000</td>\n",
       "      <td>4.00000</td>\n",
       "      <td>서울특별시</td>\n",
       "      <td>서울특별시</td>\n",
       "      <td>성동구</td>\n",
       "      <td>여자</td>\n",
       "    </tr>\n",
       "    <tr>\n",
       "      <th>40044</th>\n",
       "      <td>66792778</td>\n",
       "      <td>개인</td>\n",
       "      <td>1967.00000</td>\n",
       "      <td>10.00000</td>\n",
       "      <td>서울특별시</td>\n",
       "      <td>서울특별시</td>\n",
       "      <td>성동구</td>\n",
       "      <td>여자</td>\n",
       "    </tr>\n",
       "    <tr>\n",
       "      <th>40045</th>\n",
       "      <td>66799607</td>\n",
       "      <td>개인</td>\n",
       "      <td>1968.00000</td>\n",
       "      <td>3.00000</td>\n",
       "      <td>서울특별시</td>\n",
       "      <td>서울특별시</td>\n",
       "      <td>성동구</td>\n",
       "      <td>여자</td>\n",
       "    </tr>\n",
       "  </tbody>\n",
       "</table>\n",
       "<p>43636 rows × 8 columns</p>\n",
       "</div>"
      ],
      "text/plain": [
       "           고객ID  고객유형         생년       생월    거주지      시        구군 남여구분\n",
       "0      25702131   사업자        NaN      NaN    경기도    경기도       화성시   여자\n",
       "1      25742841   사업자 1964.00000  8.00000    경기도    경기도       가평군   여자\n",
       "2      25742683   사업자 1973.00000 12.00000  서울특별시  서울특별시       강남구   여자\n",
       "3      25851817   사업자        NaN      NaN  서울특별시  서울특별시       강남구   여자\n",
       "4      25742687   사업자 1958.00000  6.00000  서울특별시  서울특별시       강남구   여자\n",
       "...         ...   ...        ...      ...    ...    ...       ...  ...\n",
       "40041  66579515    개인 1974.00000  7.00000    경기도    경기도   성남시 중원구   남자\n",
       "40042  66799558    개인 1979.00000 10.00000    경기도    경기도   성남시 중원구   여자\n",
       "40043  66799197    개인 1956.00000  4.00000  서울특별시  서울특별시       성동구   여자\n",
       "40044  66792778    개인 1967.00000 10.00000  서울특별시  서울특별시       성동구   여자\n",
       "40045  66799607    개인 1968.00000  3.00000  서울특별시  서울특별시       성동구   여자\n",
       "\n",
       "[43636 rows x 8 columns]"
      ]
     },
     "execution_count": 225,
     "metadata": {},
     "output_type": "execute_result"
    }
   ],
   "source": [
    "bp = pd.concat([business, personal], axis = 0)\n",
    "bp"
   ]
  },
  {
   "cell_type": "code",
   "execution_count": 226,
   "id": "735c82f0-431f-41ab-8ab7-a1481646d4d6",
   "metadata": {},
   "outputs": [],
   "source": [
    "df = pd.merge(sale, bp, on='고객ID', how='left')\n",
    "# df"
   ]
  },
  {
   "cell_type": "code",
   "execution_count": 227,
   "id": "75fcdae5-6e07-48c9-86ff-b02300d54050",
   "metadata": {},
   "outputs": [],
   "source": [
    "# 열의 순서 변경하기\n",
    "cols = df.columns.tolist()\n",
    "cols.remove('해약여부')  # '해약여부' 열을 리스트에서 제거\n",
    "cols.append('해약여부')  # '해약여부' 열을 리스트의 마지막에 추가\n",
    "df = df[cols]"
   ]
  },
  {
   "cell_type": "code",
   "execution_count": 228,
   "id": "2761d22e-42c9-452c-9164-deb039dd5614",
   "metadata": {},
   "outputs": [
    {
     "data": {
      "text/plain": [
       "Index(['고객ID', '판매유형', '계약유형', '유통경로', '계약일', '계약기간', '납부유형', '제품군', '월랜탈비용',\n",
       "       '계약상태', '연체건수', '연체여부', '신용등급', '결제은행', '총 렌탈대수', '고객유형', '생년', '생월',\n",
       "       '거주지', '시', '구군', '남여구분', '해약여부'],\n",
       "      dtype='object')"
      ]
     },
     "execution_count": 228,
     "metadata": {},
     "output_type": "execute_result"
    }
   ],
   "source": [
    "df.columns"
   ]
  },
  {
   "cell_type": "code",
   "execution_count": 229,
   "id": "9b5bbd3a-065a-4603-befa-65916fb3e1b9",
   "metadata": {},
   "outputs": [
    {
     "name": "stdout",
     "output_type": "stream",
     "text": [
      "<class 'pandas.core.frame.DataFrame'>\n",
      "Int64Index: 51307 entries, 0 to 51306\n",
      "Data columns (total 23 columns):\n",
      " #   Column  Non-Null Count  Dtype  \n",
      "---  ------  --------------  -----  \n",
      " 0   고객ID    51307 non-null  int64  \n",
      " 1   판매유형    51303 non-null  object \n",
      " 2   계약유형    51306 non-null  object \n",
      " 3   유통경로    51307 non-null  object \n",
      " 4   계약일     51307 non-null  object \n",
      " 5   계약기간    51307 non-null  int64  \n",
      " 6   납부유형    51307 non-null  object \n",
      " 7   제품군     51306 non-null  object \n",
      " 8   월랜탈비용   51307 non-null  int64  \n",
      " 9   계약상태    51307 non-null  object \n",
      " 10  연체건수    51307 non-null  int64  \n",
      " 11  연체여부    51305 non-null  object \n",
      " 12  신용등급    42524 non-null  float64\n",
      " 13  결제은행    48547 non-null  object \n",
      " 14  총 렌탈대수  51306 non-null  float64\n",
      " 15  고객유형    51305 non-null  object \n",
      " 16  생년      44336 non-null  float64\n",
      " 17  생월      44336 non-null  float64\n",
      " 18  거주지     51304 non-null  object \n",
      " 19  시       51304 non-null  object \n",
      " 20  구군      51305 non-null  object \n",
      " 21  남여구분    51305 non-null  object \n",
      " 22  해약여부    51282 non-null  object \n",
      "dtypes: float64(4), int64(4), object(15)\n",
      "memory usage: 9.4+ MB\n"
     ]
    }
   ],
   "source": [
    "df.info()"
   ]
  },
  {
   "cell_type": "code",
   "execution_count": 230,
   "id": "78888f87-4e5e-4c1b-b2f8-9662728a3da2",
   "metadata": {},
   "outputs": [
    {
     "data": {
      "text/html": [
       "<div>\n",
       "<style scoped>\n",
       "    .dataframe tbody tr th:only-of-type {\n",
       "        vertical-align: middle;\n",
       "    }\n",
       "\n",
       "    .dataframe tbody tr th {\n",
       "        vertical-align: top;\n",
       "    }\n",
       "\n",
       "    .dataframe thead th {\n",
       "        text-align: right;\n",
       "    }\n",
       "</style>\n",
       "<table border=\"1\" class=\"dataframe\">\n",
       "  <thead>\n",
       "    <tr style=\"text-align: right;\">\n",
       "      <th></th>\n",
       "      <th>고객ID</th>\n",
       "      <th>계약기간</th>\n",
       "      <th>월랜탈비용</th>\n",
       "      <th>연체건수</th>\n",
       "      <th>신용등급</th>\n",
       "      <th>총 렌탈대수</th>\n",
       "      <th>생년</th>\n",
       "      <th>생월</th>\n",
       "    </tr>\n",
       "  </thead>\n",
       "  <tbody>\n",
       "    <tr>\n",
       "      <th>count</th>\n",
       "      <td>51307.00000</td>\n",
       "      <td>51307.00000</td>\n",
       "      <td>51307.00000</td>\n",
       "      <td>51307.00000</td>\n",
       "      <td>42524.00000</td>\n",
       "      <td>51306.00000</td>\n",
       "      <td>44336.00000</td>\n",
       "      <td>44336.00000</td>\n",
       "    </tr>\n",
       "    <tr>\n",
       "      <th>mean</th>\n",
       "      <td>62664794.78233</td>\n",
       "      <td>67.34245</td>\n",
       "      <td>113483.63292</td>\n",
       "      <td>0.16103</td>\n",
       "      <td>3.42893</td>\n",
       "      <td>1.13488</td>\n",
       "      <td>2020.42667</td>\n",
       "      <td>6.27341</td>\n",
       "    </tr>\n",
       "    <tr>\n",
       "      <th>std</th>\n",
       "      <td>12160833.09732</td>\n",
       "      <td>2648.66663</td>\n",
       "      <td>4414418.21878</td>\n",
       "      <td>1.12232</td>\n",
       "      <td>2.21361</td>\n",
       "      <td>1.08541</td>\n",
       "      <td>9535.44096</td>\n",
       "      <td>3.56201</td>\n",
       "    </tr>\n",
       "    <tr>\n",
       "      <th>min</th>\n",
       "      <td>25687984.00000</td>\n",
       "      <td>12.00000</td>\n",
       "      <td>54603.00000</td>\n",
       "      <td>-1.00000</td>\n",
       "      <td>0.00000</td>\n",
       "      <td>1.00000</td>\n",
       "      <td>195.00000</td>\n",
       "      <td>1.00000</td>\n",
       "    </tr>\n",
       "    <tr>\n",
       "      <th>25%</th>\n",
       "      <td>66431489.50000</td>\n",
       "      <td>60.00000</td>\n",
       "      <td>81900.00000</td>\n",
       "      <td>0.00000</td>\n",
       "      <td>1.00000</td>\n",
       "      <td>1.00000</td>\n",
       "      <td>1964.00000</td>\n",
       "      <td>3.00000</td>\n",
       "    </tr>\n",
       "    <tr>\n",
       "      <th>50%</th>\n",
       "      <td>66765783.00000</td>\n",
       "      <td>60.00000</td>\n",
       "      <td>96900.00000</td>\n",
       "      <td>0.00000</td>\n",
       "      <td>3.00000</td>\n",
       "      <td>1.00000</td>\n",
       "      <td>1972.00000</td>\n",
       "      <td>6.00000</td>\n",
       "    </tr>\n",
       "    <tr>\n",
       "      <th>75%</th>\n",
       "      <td>66781606.50000</td>\n",
       "      <td>60.00000</td>\n",
       "      <td>98400.00000</td>\n",
       "      <td>0.00000</td>\n",
       "      <td>5.00000</td>\n",
       "      <td>1.00000</td>\n",
       "      <td>1979.00000</td>\n",
       "      <td>9.00000</td>\n",
       "    </tr>\n",
       "    <tr>\n",
       "      <th>max</th>\n",
       "      <td>66969860.00000</td>\n",
       "      <td>600000.00000</td>\n",
       "      <td>999999999.00000</td>\n",
       "      <td>15.00000</td>\n",
       "      <td>10.00000</td>\n",
       "      <td>21.00000</td>\n",
       "      <td>1999978.00000</td>\n",
       "      <td>12.00000</td>\n",
       "    </tr>\n",
       "  </tbody>\n",
       "</table>\n",
       "</div>"
      ],
      "text/plain": [
       "                고객ID         계약기간           월랜탈비용        연체건수        신용등급  \\\n",
       "count    51307.00000  51307.00000     51307.00000 51307.00000 42524.00000   \n",
       "mean  62664794.78233     67.34245    113483.63292     0.16103     3.42893   \n",
       "std   12160833.09732   2648.66663   4414418.21878     1.12232     2.21361   \n",
       "min   25687984.00000     12.00000     54603.00000    -1.00000     0.00000   \n",
       "25%   66431489.50000     60.00000     81900.00000     0.00000     1.00000   \n",
       "50%   66765783.00000     60.00000     96900.00000     0.00000     3.00000   \n",
       "75%   66781606.50000     60.00000     98400.00000     0.00000     5.00000   \n",
       "max   66969860.00000 600000.00000 999999999.00000    15.00000    10.00000   \n",
       "\n",
       "           총 렌탈대수            생년          생월  \n",
       "count 51306.00000   44336.00000 44336.00000  \n",
       "mean      1.13488    2020.42667     6.27341  \n",
       "std       1.08541    9535.44096     3.56201  \n",
       "min       1.00000     195.00000     1.00000  \n",
       "25%       1.00000    1964.00000     3.00000  \n",
       "50%       1.00000    1972.00000     6.00000  \n",
       "75%       1.00000    1979.00000     9.00000  \n",
       "max      21.00000 1999978.00000    12.00000  "
      ]
     },
     "execution_count": 230,
     "metadata": {},
     "output_type": "execute_result"
    }
   ],
   "source": [
    "df.describe()"
   ]
  },
  {
   "cell_type": "code",
   "execution_count": 231,
   "id": "0b5a75e7-55ef-484c-8b30-6bc6eed34332",
   "metadata": {},
   "outputs": [
    {
     "data": {
      "text/plain": [
       "고객ID         0\n",
       "판매유형         4\n",
       "계약유형         1\n",
       "유통경로         0\n",
       "계약일          0\n",
       "계약기간         0\n",
       "납부유형         0\n",
       "제품군          1\n",
       "월랜탈비용        0\n",
       "계약상태         0\n",
       "연체건수         0\n",
       "연체여부         2\n",
       "신용등급      8783\n",
       "결제은행      2760\n",
       "총 렌탈대수       1\n",
       "고객유형         2\n",
       "생년        6971\n",
       "생월        6971\n",
       "거주지          3\n",
       "시            3\n",
       "구군           2\n",
       "남여구분         2\n",
       "해약여부        25\n",
       "dtype: int64"
      ]
     },
     "execution_count": 231,
     "metadata": {},
     "output_type": "execute_result"
    }
   ],
   "source": [
    "df.isnull().sum()"
   ]
  },
  {
   "cell_type": "markdown",
   "id": "ea8a4713-3a5d-476e-91df-b7a2a8d023fb",
   "metadata": {},
   "source": [
    "# 전처리"
   ]
  },
  {
   "cell_type": "markdown",
   "id": "842bb359-0e67-4242-a73d-35dcad06f266",
   "metadata": {},
   "source": [
    "## 결측치"
   ]
  },
  {
   "cell_type": "code",
   "execution_count": 232,
   "id": "ddcd2302-d4ff-4efa-be63-41ca6e9f46a2",
   "metadata": {},
   "outputs": [],
   "source": [
    "# 해약여부 결측치 삭제\n",
    "df.dropna(subset = [\"해약여부\"], inplace = True)\n",
    "# df"
   ]
  },
  {
   "cell_type": "code",
   "execution_count": 233,
   "id": "7bcf6b60-a34a-4237-b6f9-95cabdde8115",
   "metadata": {},
   "outputs": [],
   "source": [
    "df.loc[df[\"계약유형\"] == \"교체렌탈\", \"판매유형\"] = \"렌탈\""
   ]
  },
  {
   "cell_type": "code",
   "execution_count": 234,
   "id": "687633e1-c4a1-4c98-b7c8-25d832b219c6",
   "metadata": {},
   "outputs": [],
   "source": [
    "# 판매유형 결측치 삭제\n",
    "df.dropna(subset = [\"판매유형\"], inplace = True)"
   ]
  },
  {
   "cell_type": "code",
   "execution_count": 235,
   "id": "5247704d-b0e3-4e19-8935-4477be17602d",
   "metadata": {},
   "outputs": [],
   "source": [
    "# 계약유형 결측치 삭제\n",
    "df.dropna(subset = [\"계약유형\"], inplace = True)"
   ]
  },
  {
   "cell_type": "code",
   "execution_count": 236,
   "id": "bba3985b-e933-48e4-acc0-401aa76e94f9",
   "metadata": {},
   "outputs": [],
   "source": [
    "# 제품군 결측치 삭제\n",
    "df.dropna(subset = [\"제품군\"], inplace = True)"
   ]
  },
  {
   "cell_type": "code",
   "execution_count": 237,
   "id": "32fe894d-cc49-463b-82f6-d8879e736609",
   "metadata": {},
   "outputs": [
    {
     "data": {
      "text/html": [
       "<div>\n",
       "<style scoped>\n",
       "    .dataframe tbody tr th:only-of-type {\n",
       "        vertical-align: middle;\n",
       "    }\n",
       "\n",
       "    .dataframe tbody tr th {\n",
       "        vertical-align: top;\n",
       "    }\n",
       "\n",
       "    .dataframe thead th {\n",
       "        text-align: right;\n",
       "    }\n",
       "</style>\n",
       "<table border=\"1\" class=\"dataframe\">\n",
       "  <thead>\n",
       "    <tr style=\"text-align: right;\">\n",
       "      <th></th>\n",
       "      <th>연체건수</th>\n",
       "      <th>연체여부</th>\n",
       "    </tr>\n",
       "  </thead>\n",
       "  <tbody>\n",
       "    <tr>\n",
       "      <th>182</th>\n",
       "      <td>2</td>\n",
       "      <td>NaN</td>\n",
       "    </tr>\n",
       "    <tr>\n",
       "      <th>255</th>\n",
       "      <td>0</td>\n",
       "      <td>NaN</td>\n",
       "    </tr>\n",
       "  </tbody>\n",
       "</table>\n",
       "</div>"
      ],
      "text/plain": [
       "     연체건수 연체여부\n",
       "182     2  NaN\n",
       "255     0  NaN"
      ]
     },
     "execution_count": 237,
     "metadata": {},
     "output_type": "execute_result"
    }
   ],
   "source": [
    "df[df[\"연체여부\"].isna()][[\"연체건수\",\"연체여부\"]]"
   ]
  },
  {
   "cell_type": "code",
   "execution_count": 238,
   "id": "5fae7928-7375-44d6-943c-489014fd1d7a",
   "metadata": {},
   "outputs": [
    {
     "data": {
      "text/plain": [
       "array(['없음', '있음', nan], dtype=object)"
      ]
     },
     "execution_count": 238,
     "metadata": {},
     "output_type": "execute_result"
    }
   ],
   "source": [
    "df[\"연체여부\"].unique()"
   ]
  },
  {
   "cell_type": "code",
   "execution_count": 239,
   "id": "8c05f8c5-0c0b-43e3-bf4c-24ab7e016c3c",
   "metadata": {},
   "outputs": [
    {
     "data": {
      "text/plain": [
       "array(['없음', '있음'], dtype=object)"
      ]
     },
     "execution_count": 239,
     "metadata": {},
     "output_type": "execute_result"
    }
   ],
   "source": [
    "# 연체건수 따른 연체여부 설정\n",
    "df.loc[(df[\"연체여부\"].isna()) & (df[\"연체건수\"] == 0), \"연체여부\"] = \"없음\"\n",
    "df.loc[(df[\"연체여부\"].isna()) & (df[\"연체건수\"] >= 1), \"연체여부\"] = \"있음\"\n",
    "df[\"연체여부\"].unique()"
   ]
  },
  {
   "cell_type": "code",
   "execution_count": 240,
   "id": "6d99749c-9058-43d4-9599-3fafb364f5b6",
   "metadata": {},
   "outputs": [
    {
     "data": {
      "text/html": [
       "<div>\n",
       "<style scoped>\n",
       "    .dataframe tbody tr th:only-of-type {\n",
       "        vertical-align: middle;\n",
       "    }\n",
       "\n",
       "    .dataframe tbody tr th {\n",
       "        vertical-align: top;\n",
       "    }\n",
       "\n",
       "    .dataframe thead th {\n",
       "        text-align: right;\n",
       "    }\n",
       "</style>\n",
       "<table border=\"1\" class=\"dataframe\">\n",
       "  <thead>\n",
       "    <tr style=\"text-align: right;\">\n",
       "      <th></th>\n",
       "      <th>고객ID</th>\n",
       "      <th>판매유형</th>\n",
       "      <th>계약유형</th>\n",
       "      <th>유통경로</th>\n",
       "      <th>계약일</th>\n",
       "      <th>계약기간</th>\n",
       "      <th>납부유형</th>\n",
       "      <th>제품군</th>\n",
       "      <th>월랜탈비용</th>\n",
       "      <th>계약상태</th>\n",
       "      <th>...</th>\n",
       "      <th>결제은행</th>\n",
       "      <th>총 렌탈대수</th>\n",
       "      <th>고객유형</th>\n",
       "      <th>생년</th>\n",
       "      <th>생월</th>\n",
       "      <th>거주지</th>\n",
       "      <th>시</th>\n",
       "      <th>구군</th>\n",
       "      <th>남여구분</th>\n",
       "      <th>해약여부</th>\n",
       "    </tr>\n",
       "  </thead>\n",
       "  <tbody>\n",
       "    <tr>\n",
       "      <th>298</th>\n",
       "      <td>66758696</td>\n",
       "      <td>렌탈</td>\n",
       "      <td>일반</td>\n",
       "      <td>렌탈총판</td>\n",
       "      <td>25-10-2022</td>\n",
       "      <td>60</td>\n",
       "      <td>CMS</td>\n",
       "      <td>DES-1</td>\n",
       "      <td>105900</td>\n",
       "      <td>계약확정</td>\n",
       "      <td>...</td>\n",
       "      <td>국민은행</td>\n",
       "      <td>1.00000</td>\n",
       "      <td>개인</td>\n",
       "      <td>1988.00000</td>\n",
       "      <td>5.00000</td>\n",
       "      <td>NaN</td>\n",
       "      <td>광주광역시</td>\n",
       "      <td>북구</td>\n",
       "      <td>여자</td>\n",
       "      <td>정상</td>\n",
       "    </tr>\n",
       "  </tbody>\n",
       "</table>\n",
       "<p>1 rows × 23 columns</p>\n",
       "</div>"
      ],
      "text/plain": [
       "         고객ID 판매유형 계약유형  유통경로         계약일  계약기간 납부유형    제품군   월랜탈비용  계약상태  \\\n",
       "298  66758696   렌탈   일반  렌탈총판  25-10-2022    60  CMS  DES-1  105900  계약확정   \n",
       "\n",
       "     ...  결제은행  총 렌탈대수  고객유형         생년      생월  거주지      시   구군 남여구분 해약여부  \n",
       "298  ...  국민은행 1.00000    개인 1988.00000 5.00000  NaN  광주광역시   북구   여자   정상  \n",
       "\n",
       "[1 rows x 23 columns]"
      ]
     },
     "execution_count": 240,
     "metadata": {},
     "output_type": "execute_result"
    }
   ],
   "source": [
    "df[df[\"거주지\"].isna()]"
   ]
  },
  {
   "cell_type": "code",
   "execution_count": 241,
   "id": "90b32a7f-3223-4c2a-b073-7399e0ef069e",
   "metadata": {},
   "outputs": [
    {
     "data": {
      "text/plain": [
       "array(['경기도', '경상도', '전라도', '충청도', '강원도', '서울특별시', nan, '제주도', '광주광역시'],\n",
       "      dtype=object)"
      ]
     },
     "execution_count": 241,
     "metadata": {},
     "output_type": "execute_result"
    }
   ],
   "source": [
    "df[\"거주지\"].unique()"
   ]
  },
  {
   "cell_type": "code",
   "execution_count": 242,
   "id": "c709a8d9-f4fc-4a8b-975b-60af6f492b7d",
   "metadata": {},
   "outputs": [],
   "source": [
    "df[\"거주지\"].fillna(\"광주광역시\", inplace=True)"
   ]
  },
  {
   "cell_type": "code",
   "execution_count": 243,
   "id": "54a4b165-4d43-4438-8085-8c3dc52f9764",
   "metadata": {},
   "outputs": [
    {
     "data": {
      "text/html": [
       "<div>\n",
       "<style scoped>\n",
       "    .dataframe tbody tr th:only-of-type {\n",
       "        vertical-align: middle;\n",
       "    }\n",
       "\n",
       "    .dataframe tbody tr th {\n",
       "        vertical-align: top;\n",
       "    }\n",
       "\n",
       "    .dataframe thead th {\n",
       "        text-align: right;\n",
       "    }\n",
       "</style>\n",
       "<table border=\"1\" class=\"dataframe\">\n",
       "  <thead>\n",
       "    <tr style=\"text-align: right;\">\n",
       "      <th></th>\n",
       "      <th>고객ID</th>\n",
       "      <th>판매유형</th>\n",
       "      <th>계약유형</th>\n",
       "      <th>유통경로</th>\n",
       "      <th>계약일</th>\n",
       "      <th>계약기간</th>\n",
       "      <th>납부유형</th>\n",
       "      <th>제품군</th>\n",
       "      <th>월랜탈비용</th>\n",
       "      <th>계약상태</th>\n",
       "      <th>...</th>\n",
       "      <th>결제은행</th>\n",
       "      <th>총 렌탈대수</th>\n",
       "      <th>고객유형</th>\n",
       "      <th>생년</th>\n",
       "      <th>생월</th>\n",
       "      <th>거주지</th>\n",
       "      <th>시</th>\n",
       "      <th>구군</th>\n",
       "      <th>남여구분</th>\n",
       "      <th>해약여부</th>\n",
       "    </tr>\n",
       "  </thead>\n",
       "  <tbody>\n",
       "    <tr>\n",
       "      <th>109</th>\n",
       "      <td>25742697</td>\n",
       "      <td>렌탈</td>\n",
       "      <td>일반</td>\n",
       "      <td>서비스 방문</td>\n",
       "      <td>25-10-2022</td>\n",
       "      <td>60</td>\n",
       "      <td>CMS</td>\n",
       "      <td>DES-1</td>\n",
       "      <td>96900</td>\n",
       "      <td>계약확정</td>\n",
       "      <td>...</td>\n",
       "      <td>국민은행</td>\n",
       "      <td>1.00000</td>\n",
       "      <td>사업자</td>\n",
       "      <td>1979.00000</td>\n",
       "      <td>5.00000</td>\n",
       "      <td>경기도</td>\n",
       "      <td>NaN</td>\n",
       "      <td>광주시</td>\n",
       "      <td>여자</td>\n",
       "      <td>정상</td>\n",
       "    </tr>\n",
       "  </tbody>\n",
       "</table>\n",
       "<p>1 rows × 23 columns</p>\n",
       "</div>"
      ],
      "text/plain": [
       "         고객ID 판매유형 계약유형    유통경로         계약일  계약기간 납부유형    제품군  월랜탈비용  계약상태  \\\n",
       "109  25742697   렌탈   일반  서비스 방문  25-10-2022    60  CMS  DES-1  96900  계약확정   \n",
       "\n",
       "     ...  결제은행  총 렌탈대수  고객유형         생년      생월  거주지    시    구군 남여구분 해약여부  \n",
       "109  ...  국민은행 1.00000   사업자 1979.00000 5.00000  경기도  NaN   광주시   여자   정상  \n",
       "\n",
       "[1 rows x 23 columns]"
      ]
     },
     "execution_count": 243,
     "metadata": {},
     "output_type": "execute_result"
    }
   ],
   "source": [
    "df[df[\"시\"].isna()]"
   ]
  },
  {
   "cell_type": "code",
   "execution_count": 244,
   "id": "8b3a4450-8423-460b-a7d4-fc3a70dbf2e9",
   "metadata": {},
   "outputs": [
    {
     "data": {
      "text/plain": [
       "array(['경기도', '경상도', '전라도', '부산광역시', '충청도', '강원도', '서울특별시', '인천광역시',\n",
       "       '광주광역시', nan, '울산광역시', '대구광역시', '대전광역시', '제주도', '세종자치시'],\n",
       "      dtype=object)"
      ]
     },
     "execution_count": 244,
     "metadata": {},
     "output_type": "execute_result"
    }
   ],
   "source": [
    "df[\"시\"].unique()"
   ]
  },
  {
   "cell_type": "code",
   "execution_count": 245,
   "id": "aa912175-2ce3-465d-b3f5-a68fc45be38a",
   "metadata": {},
   "outputs": [],
   "source": [
    "df[\"시\"].fillna(\"경기도\", inplace=True)"
   ]
  },
  {
   "cell_type": "code",
   "execution_count": 246,
   "id": "e579e4f8-b59d-459f-b22c-b4106df98c2d",
   "metadata": {},
   "outputs": [],
   "source": [
    "df[\"생년\"].fillna(\"unknown\", inplace=True)"
   ]
  },
  {
   "cell_type": "code",
   "execution_count": 247,
   "id": "3da9dc77-fa99-442c-a6b4-87fd81bad7a3",
   "metadata": {},
   "outputs": [],
   "source": [
    "df.drop(\"생월\", axis = 1, inplace = True)\n",
    "# df"
   ]
  },
  {
   "cell_type": "code",
   "execution_count": 248,
   "id": "6e55e620-9f30-4584-9651-7bfc5272afb3",
   "metadata": {},
   "outputs": [
    {
     "name": "stdout",
     "output_type": "stream",
     "text": [
      "<class 'pandas.core.frame.DataFrame'>\n",
      "Int64Index: 51277 entries, 0 to 51306\n",
      "Data columns (total 22 columns):\n",
      " #   Column  Non-Null Count  Dtype  \n",
      "---  ------  --------------  -----  \n",
      " 0   고객ID    51277 non-null  int64  \n",
      " 1   판매유형    51277 non-null  object \n",
      " 2   계약유형    51277 non-null  object \n",
      " 3   유통경로    51277 non-null  object \n",
      " 4   계약일     51277 non-null  object \n",
      " 5   계약기간    51277 non-null  int64  \n",
      " 6   납부유형    51277 non-null  object \n",
      " 7   제품군     51277 non-null  object \n",
      " 8   월랜탈비용   51277 non-null  int64  \n",
      " 9   계약상태    51277 non-null  object \n",
      " 10  연체건수    51277 non-null  int64  \n",
      " 11  연체여부    51277 non-null  object \n",
      " 12  신용등급    42498 non-null  float64\n",
      " 13  결제은행    48517 non-null  object \n",
      " 14  총 렌탈대수  51277 non-null  float64\n",
      " 15  고객유형    51277 non-null  object \n",
      " 16  생년      51277 non-null  object \n",
      " 17  거주지     51277 non-null  object \n",
      " 18  시       51277 non-null  object \n",
      " 19  구군      51277 non-null  object \n",
      " 20  남여구분    51277 non-null  object \n",
      " 21  해약여부    51277 non-null  object \n",
      "dtypes: float64(2), int64(4), object(16)\n",
      "memory usage: 9.0+ MB\n"
     ]
    }
   ],
   "source": [
    "df.info()"
   ]
  },
  {
   "cell_type": "markdown",
   "id": "cf40c95c-48b5-4934-b11e-ce2e320ccee6",
   "metadata": {},
   "source": [
    "## 이상치"
   ]
  },
  {
   "cell_type": "markdown",
   "id": "c9780100-f5b9-46b2-9f09-c79f192ba784",
   "metadata": {},
   "source": [
    "### 월랜탈비용"
   ]
  },
  {
   "cell_type": "code",
   "execution_count": 249,
   "id": "6b609b76-1690-4fcb-975d-da8eb1d77e3a",
   "metadata": {},
   "outputs": [
    {
     "data": {
      "text/plain": [
       "array([    96900,    102900,     66900,     90900,     98400,     80400,\n",
       "          105900,     81900, 999999999,    111900,     87900,    134700,\n",
       "           89400,    142200,     96600,    126900,    124200,     75900,\n",
       "          125700,     78900,    104400,    115200,    110700,    145200,\n",
       "          180750,    185700,     55200,    120900,    108900,    118200,\n",
       "           84900,    123000,     72900,    127200,    144900,    121200,\n",
       "          112200,    109200,    133200,    141900,    116700,    114150,\n",
       "          138900,    151200,    111300,    215700,    134400,    137700,\n",
       "           99900,    101550,    136950,     93900,    129900,     95400,\n",
       "          113700,    101400,    167700,    117900,     98910,    107700,\n",
       "          100200,    130200,    102450,    136200,    119400,    110400,\n",
       "          104700,     85350,     99600,     54603,     56979,     58743,\n",
       "           60225,     66396,     72138,     77154,     77985,     62673,\n",
       "           64326,     87960,     87930,    155700,    113460,    131400,\n",
       "           68625,    113400,    126450,    105300,     90930,    131700,\n",
       "           60603,    114900,     89100,     82200,     80310])"
      ]
     },
     "execution_count": 249,
     "metadata": {},
     "output_type": "execute_result"
    }
   ],
   "source": [
    "df[\"월랜탈비용\"].unique()"
   ]
  },
  {
   "cell_type": "code",
   "execution_count": 250,
   "id": "2a083bab-d055-4298-a051-6f933a2efc21",
   "metadata": {},
   "outputs": [],
   "source": [
    "# df[df[\"월랜탈비용\"] == 999999999]"
   ]
  },
  {
   "cell_type": "code",
   "execution_count": 251,
   "id": "9beeab64-1eac-45a8-a612-d7f3ce0a8796",
   "metadata": {},
   "outputs": [
    {
     "data": {
      "text/plain": [
       "array([' 개인', ' 사업자'], dtype=object)"
      ]
     },
     "execution_count": 251,
     "metadata": {},
     "output_type": "execute_result"
    }
   ],
   "source": [
    "df[\"고객유형\"].unique()"
   ]
  },
  {
   "cell_type": "code",
   "execution_count": 252,
   "id": "13db8ccf-efa8-4e91-920d-cd1820479908",
   "metadata": {},
   "outputs": [
    {
     "data": {
      "text/plain": [
       "array(['개인', '사업자'], dtype=object)"
      ]
     },
     "execution_count": 252,
     "metadata": {},
     "output_type": "execute_result"
    }
   ],
   "source": [
    "df[\"고객유형\"].replace({' 개인':\"개인\", ' 사업자':\"사업자\"}, inplace = True)\n",
    "df[\"고객유형\"].unique()"
   ]
  },
  {
   "cell_type": "code",
   "execution_count": 253,
   "id": "a82a4a9b-c292-4df5-9a80-642822aa6546",
   "metadata": {},
   "outputs": [],
   "source": [
    "# 판매유형, 계약유형, 제품군, 계약기간, 납부유형, 고객유형 비교\n",
    "selected_rows = df[(df[\"판매유형\"] == \"렌탈\") & (df[\"계약유형\"] == \"프로모션\") & (df[\"제품군\"] == \"DES-1\") & (df[\"납부유형\"] == \"CMS\") & (df[\"월랜탈비용\"] != 999999999) & (df[\"연체여부\"] == \"없음\")]\n",
    "# selected_rows"
   ]
  },
  {
   "cell_type": "code",
   "execution_count": 254,
   "id": "c6797105-333a-48b6-a047-5add0a88bd22",
   "metadata": {},
   "outputs": [
    {
     "data": {
      "text/plain": [
       "count     6970.00000\n",
       "mean    105258.33572\n",
       "std       9563.48763\n",
       "min      87900.00000\n",
       "25%      96900.00000\n",
       "50%     105900.00000\n",
       "75%     105900.00000\n",
       "max     167700.00000\n",
       "Name: 월랜탈비용, dtype: float64"
      ]
     },
     "execution_count": 254,
     "metadata": {},
     "output_type": "execute_result"
    }
   ],
   "source": [
    "selected_rows[\"월랜탈비용\"].describe()"
   ]
  },
  {
   "cell_type": "code",
   "execution_count": 255,
   "id": "beaf8cf8-7006-4457-aff1-0fa75d2a115f",
   "metadata": {},
   "outputs": [
    {
     "data": {
      "text/plain": [
       "array([ 96900, 102900,  66900,  90900,  98400,  80400, 105900,  81900,\n",
       "       111900,  87900, 134700,  89400, 142200,  96600, 126900, 124200,\n",
       "        75900, 125700,  78900, 104400, 115200, 110700, 145200, 180750,\n",
       "       185700,  55200, 120900, 108900, 118200,  84900, 123000,  72900,\n",
       "       127200, 144900, 121200, 112200, 109200, 133200, 141900, 116700,\n",
       "       114150, 138900, 151200, 111300, 215700, 134400, 137700,  99900,\n",
       "       101550, 136950,  93900, 129900,  95400, 113700, 101400, 167700,\n",
       "       117900,  98910, 107700, 100200, 130200, 102450, 136200, 119400,\n",
       "       110400, 104700,  85350,  99600,  54603,  56979,  58743,  60225,\n",
       "        66396,  72138,  77154,  77985,  62673,  64326,  87960,  87930,\n",
       "       155700, 113460, 131400,  68625, 113400, 126450, 105300,  90930,\n",
       "       131700,  60603, 114900,  89100,  82200,  80310])"
      ]
     },
     "execution_count": 255,
     "metadata": {},
     "output_type": "execute_result"
    }
   ],
   "source": [
    "df[\"월랜탈비용\"].replace(999999999, 105900, inplace=True)\n",
    "df[\"월랜탈비용\"].unique()"
   ]
  },
  {
   "cell_type": "markdown",
   "id": "14961677-8ee7-4e27-99ed-ffdcfa6a870f",
   "metadata": {},
   "source": [
    "### 연체건수"
   ]
  },
  {
   "cell_type": "code",
   "execution_count": 256,
   "id": "7b41a3c0-23ca-468a-8a82-9ae50467d868",
   "metadata": {},
   "outputs": [
    {
     "data": {
      "text/plain": [
       "array([ 0, 12,  1, 15,  4,  2,  9, 10,  7,  5, 11, 13,  3, -1,  8, 14,  6])"
      ]
     },
     "execution_count": 256,
     "metadata": {},
     "output_type": "execute_result"
    }
   ],
   "source": [
    "df[\"연체건수\"].unique()"
   ]
  },
  {
   "cell_type": "code",
   "execution_count": 257,
   "id": "2ca13c36-1b01-460f-b418-852b9e49b685",
   "metadata": {},
   "outputs": [],
   "source": [
    "# df[df[\"연체건수\"] == -1][[\"연체건수\", \"연체여부\"]]"
   ]
  },
  {
   "cell_type": "code",
   "execution_count": 258,
   "id": "39a7975c-e7c0-4c52-bb7d-5292e7795f11",
   "metadata": {},
   "outputs": [],
   "source": [
    "# df[\"연체건수\"].replace(-1, 0, inplace=True)\n",
    "# df[\"연체건수\"].unique()"
   ]
  },
  {
   "cell_type": "markdown",
   "id": "baed4c8d-67dc-4940-b25f-dc7659eb68bd",
   "metadata": {},
   "source": [
    "### 계약기간"
   ]
  },
  {
   "cell_type": "code",
   "execution_count": 259,
   "id": "2767b992-80c3-41f4-9f23-a225d4c58534",
   "metadata": {},
   "outputs": [],
   "source": [
    "# df[\"계약기간\"].unique()"
   ]
  },
  {
   "cell_type": "code",
   "execution_count": 260,
   "id": "739022ad-1caa-4349-8140-3028af2a2974",
   "metadata": {},
   "outputs": [],
   "source": [
    "# df[(df[\"계약기간\"] == 600) | (df[\"계약기간\"] == 600000)]"
   ]
  },
  {
   "cell_type": "code",
   "execution_count": 261,
   "id": "48af8ccb-e007-4168-bc3a-cf1896aad5f3",
   "metadata": {},
   "outputs": [
    {
     "data": {
      "text/plain": [
       "array([60, 12, 36, 39])"
      ]
     },
     "execution_count": 261,
     "metadata": {},
     "output_type": "execute_result"
    }
   ],
   "source": [
    "df[\"계약기간\"].replace({600: 60, 600000: 60}, inplace=True)\n",
    "df[\"계약기간\"].unique()"
   ]
  },
  {
   "cell_type": "markdown",
   "id": "4a1cd4fb-5bfb-489f-9d50-20c0d4e8ee0e",
   "metadata": {},
   "source": [
    "### 생년"
   ]
  },
  {
   "cell_type": "code",
   "execution_count": 262,
   "id": "ecd95621-ccaf-4540-af89-08e7a817fb3a",
   "metadata": {},
   "outputs": [
    {
     "data": {
      "text/plain": [
       "[195.0,\n",
       " 197.0,\n",
       " 1919.0,\n",
       " 1922.0,\n",
       " 1925.0,\n",
       " 1926.0,\n",
       " 1927.0,\n",
       " 1928.0,\n",
       " 1929.0,\n",
       " 1930.0,\n",
       " 1931.0,\n",
       " 1932.0,\n",
       " 1933.0,\n",
       " 1934.0,\n",
       " 1935.0,\n",
       " 1936.0,\n",
       " 1937.0,\n",
       " 1938.0,\n",
       " 1939.0,\n",
       " 1940.0,\n",
       " 1941.0,\n",
       " 1942.0,\n",
       " 1943.0,\n",
       " 1944.0,\n",
       " 1945.0,\n",
       " 1946.0,\n",
       " 1947.0,\n",
       " 1948.0,\n",
       " 1949.0,\n",
       " 1950.0,\n",
       " 1951.0,\n",
       " 1952.0,\n",
       " 1953.0,\n",
       " 1954.0,\n",
       " 1955.0,\n",
       " 1956.0,\n",
       " 1957.0,\n",
       " 1958.0,\n",
       " 1959.0,\n",
       " 1960.0,\n",
       " 1961.0,\n",
       " 1962.0,\n",
       " 1963.0,\n",
       " 1964.0,\n",
       " 1965.0,\n",
       " 1966.0,\n",
       " 1967.0,\n",
       " 1968.0,\n",
       " 1969.0,\n",
       " 1970.0,\n",
       " 1971.0,\n",
       " 1972.0,\n",
       " 1973.0,\n",
       " 1974.0,\n",
       " 1975.0,\n",
       " 1976.0,\n",
       " 1977.0,\n",
       " 1978.0,\n",
       " 1979.0,\n",
       " 1980.0,\n",
       " 1981.0,\n",
       " 1982.0,\n",
       " 1983.0,\n",
       " 1984.0,\n",
       " 1985.0,\n",
       " 1986.0,\n",
       " 1987.0,\n",
       " 1988.0,\n",
       " 1989.0,\n",
       " 1990.0,\n",
       " 1991.0,\n",
       " 1992.0,\n",
       " 1993.0,\n",
       " 1994.0,\n",
       " 1995.0,\n",
       " 1996.0,\n",
       " 199982.0,\n",
       " 1999978.0]"
      ]
     },
     "execution_count": 262,
     "metadata": {},
     "output_type": "execute_result"
    }
   ],
   "source": [
    "sorted(df[df[\"생년\"] != \"unknown\"][\"생년\"].unique())"
   ]
  },
  {
   "cell_type": "code",
   "execution_count": 263,
   "id": "27ee147e-fddc-4e4b-9faf-6af336be4f13",
   "metadata": {},
   "outputs": [],
   "source": [
    "df[\"생년\"].replace({199982: 1982, 1999978: 1978}, inplace=True)\n",
    "# df[\"생년\"].unique()"
   ]
  },
  {
   "cell_type": "code",
   "execution_count": 264,
   "id": "b9a6d3f7-8228-493f-9aec-9edcd38400da",
   "metadata": {},
   "outputs": [],
   "source": [
    "df.drop(df[(df[\"생년\"] == 195) | (df[\"생년\"] == 197)].index, inplace = True)\n",
    "# df[\"생년\"].unique()"
   ]
  },
  {
   "cell_type": "markdown",
   "id": "1583676c-7b6d-48a5-b545-e7c1df419dfa",
   "metadata": {},
   "source": [
    "# 최종"
   ]
  },
  {
   "cell_type": "code",
   "execution_count": 265,
   "id": "582cba21-3252-4d02-bc6a-663ddd11beec",
   "metadata": {},
   "outputs": [],
   "source": [
    "# df"
   ]
  },
  {
   "cell_type": "markdown",
   "id": "eaf545c0-d226-41ee-9971-c4457fa1985f",
   "metadata": {},
   "source": [
    "# 총 렌탈대수 파생변수"
   ]
  },
  {
   "cell_type": "code",
   "execution_count": 266,
   "id": "0dfbc76a-ba16-4b01-b3e3-02fe8deb5856",
   "metadata": {},
   "outputs": [],
   "source": [
    "df['총렌탈대수'] = df.groupby(['고객ID', '계약일', '제품군'])['고객ID'].transform('count')\n",
    "# df"
   ]
  },
  {
   "cell_type": "code",
   "execution_count": 267,
   "id": "44566aae-57ad-44cb-a9a5-9e4510dfdab4",
   "metadata": {},
   "outputs": [
    {
     "name": "stdout",
     "output_type": "stream",
     "text": [
      "       고객ID  계약상태 이탈여부\n",
      "0  66758234  계약확정   정상\n",
      "1  66755948  계약확정   정상\n",
      "2  66756657  계약확정   정상\n",
      "3  66423450  계약확정   정상\n",
      "4  66423204  해약확정   이탈\n"
     ]
    }
   ],
   "source": [
    "# '계약상태'가 '기간만료', '해약확정', '해약진행중'인 경우 '이탈'로, 그 외는 '정상'으로 분류하는 새로운 컬럼 '이탈여부' 생성\n",
    "df['이탈여부'] = df['계약상태'].apply(lambda x: '이탈' if x in ['기간만료', '해약확정', '해약진행중'] else '정상')\n",
    "# 결과 확인을 위해 상위 몇 개의 데이터를 출력\n",
    "print(df[['고객ID', '계약상태', '이탈여부']].head())"
   ]
  },
  {
   "cell_type": "code",
   "execution_count": 268,
   "id": "acc6d5dc-9dba-4004-960a-032bca603b52",
   "metadata": {},
   "outputs": [
    {
     "name": "stdout",
     "output_type": "stream",
     "text": [
      "<class 'pandas.core.frame.DataFrame'>\n",
      "Int64Index: 51275 entries, 0 to 51306\n",
      "Data columns (total 24 columns):\n",
      " #   Column  Non-Null Count  Dtype  \n",
      "---  ------  --------------  -----  \n",
      " 0   고객ID    51275 non-null  int64  \n",
      " 1   판매유형    51275 non-null  object \n",
      " 2   계약유형    51275 non-null  object \n",
      " 3   유통경로    51275 non-null  object \n",
      " 4   계약일     51275 non-null  object \n",
      " 5   계약기간    51275 non-null  int64  \n",
      " 6   납부유형    51275 non-null  object \n",
      " 7   제품군     51275 non-null  object \n",
      " 8   월랜탈비용   51275 non-null  int64  \n",
      " 9   계약상태    51275 non-null  object \n",
      " 10  연체건수    51275 non-null  int64  \n",
      " 11  연체여부    51275 non-null  object \n",
      " 12  신용등급    42497 non-null  float64\n",
      " 13  결제은행    48515 non-null  object \n",
      " 14  총 렌탈대수  51275 non-null  float64\n",
      " 15  고객유형    51275 non-null  object \n",
      " 16  생년      51275 non-null  object \n",
      " 17  거주지     51275 non-null  object \n",
      " 18  시       51275 non-null  object \n",
      " 19  구군      51275 non-null  object \n",
      " 20  남여구분    51275 non-null  object \n",
      " 21  해약여부    51275 non-null  object \n",
      " 22  총렌탈대수   51275 non-null  int64  \n",
      " 23  이탈여부    51275 non-null  object \n",
      "dtypes: float64(2), int64(5), object(17)\n",
      "memory usage: 9.8+ MB\n"
     ]
    }
   ],
   "source": [
    "df.info()"
   ]
  },
  {
   "cell_type": "code",
   "execution_count": 269,
   "id": "9d12df5b",
   "metadata": {},
   "outputs": [],
   "source": [
    "df[\"구군\"] = df[\"구군\"].apply(lambda x: x.strip())\n",
    "df.loc[(df['구군'] == '여주군'), '구군'] = '여주시'\n",
    "df['구군'] = df['구군'].replace({'청원군': '청주시'})"
   ]
  },
  {
   "cell_type": "code",
   "execution_count": 270,
   "id": "6b06a3de",
   "metadata": {},
   "outputs": [],
   "source": [
    "df['계약일'] = pd.to_datetime(df['계약일'], format='%d-%m-%Y')\n",
    "# Extract the weekday from '계약일'\n",
    "df['요일'] = df['계약일'].dt.dayofweek\n",
    "# Map the weekday numbers to day names (optional)\n",
    "day_names = {0: '월요일', 1: '화요일', 2: '수요일', 3: '목요일', 4: '금요일', 5: '토요일', 6: '일요일'}\n",
    "df['요일'] = df['요일'].map(day_names)\n",
    "# Now, '요일' contains the day of the week for each contract date\n",
    "\n",
    "# '계약상태'가 '기간만료', '해약확정', '해약진행중'인 경우 '이탈'로, 그 외는 '정상'으로 분류하는 새로운 컬럼 '이탈여부' 생성\n",
    "df['이탈여부'] = df['계약상태'].apply(lambda x: '이탈' if x in ['기간만료', '해약확정', '해약진행중'] else '정상')\n",
    "# 결과 확인을 위해 상위 몇 개의 데이터를 출력\n",
    "# print(df[['고객ID', '계약상태', '이탈여부']].head())"
   ]
  },
  {
   "cell_type": "code",
   "execution_count": 271,
   "id": "9c869d45",
   "metadata": {},
   "outputs": [],
   "source": [
    "current_year = 2024\n",
    "def calculate_age(birth_year):\n",
    "    if birth_year != 'unknown':\n",
    "        return current_year - float(birth_year)\n",
    "    else:\n",
    "        return None\n",
    "df['나이'] = df['생년'].apply(calculate_age)"
   ]
  },
  {
   "cell_type": "code",
   "execution_count": 272,
   "id": "0dec787a",
   "metadata": {},
   "outputs": [],
   "source": [
    "def calculate_age_group(age):\n",
    "    if age is not None:\n",
    "        if age < 20:\n",
    "            return '10대 미만'\n",
    "        elif age < 30:\n",
    "            return '20대'\n",
    "        elif age < 40:\n",
    "            return '30대'\n",
    "        elif age < 50:\n",
    "            return '40대'\n",
    "        elif age < 60:\n",
    "            return '50대'\n",
    "        elif age < 70:\n",
    "            return '60대'\n",
    "        elif age < 80:\n",
    "            return '70대'\n",
    "        else:\n",
    "            return '80대 이상'\n",
    "    else:\n",
    "        return None\n",
    "# 연령대를 계산하여 새로운 열에 추가\n",
    "df['연령대'] = df['나이'].apply(calculate_age_group)"
   ]
  },
  {
   "cell_type": "code",
   "execution_count": 273,
   "id": "e50a7ce6",
   "metadata": {},
   "outputs": [],
   "source": [
    "e_mart = ['부산광역시 사상구', '서울특별시 성동구', '서울특별시 구로구', '경기도 남양주시',\n",
    "               '경기도 수원시권선구', '인천시 연수구', '부산광역시 연제구', '서울특별시 영등포구', '경기도 고양시일산서구'] # 수원시, 고양시\n",
    "hi_mart = ['서울특별시 송파구']\n",
    "\n",
    "store = ['서울특별시 강남구', \"서울특별시 노원구\", \"서울특별시 용산구\", \"경기 수원시영통구\", \"경기 용인시기흥구\", #용인시\n",
    "         \"서울특별시 구로구\", \"대구 수성구\", \"부산 해운대구\", \"광주 서구\", \"인천 남동구\"]\n",
    "\n",
    "def check_location_mart(location):\n",
    "    for location_list in [e_mart, hi_mart]:\n",
    "        for item in location_list:\n",
    "            if item.split(' ')[-1] in location:\n",
    "                return 1\n",
    "    return 0\n",
    "\n",
    "def check_location_store(location):\n",
    "    for location_list in [store]:\n",
    "        for item in location_list:\n",
    "            if item.split(' ')[-1] in location:\n",
    "                return 1\n",
    "    return 0\n",
    "\n",
    "df['마트'] = df['구군'].apply(check_location_mart)\n",
    "\n",
    "df['직영점'] = df['구군'].apply(check_location_store)"
   ]
  },
  {
   "cell_type": "code",
   "execution_count": 274,
   "id": "397db7e7",
   "metadata": {},
   "outputs": [],
   "source": [
    "pd.set_option('display.max_seq_items', None)\n",
    "# df = pd.read_csv(\"/home/piai/바탕화면/BigData_Project/rental_Project/dataFolder/rental.csv\")\n",
    "incomes = pd.read_csv(\"/home/piai/바탕화면/BigData_Project/rental_Project/dataFolder/incomes.csv\", encoding='euc-kr', skiprows=2)\n",
    "# incomes.head()\n",
    "pd.options.display.float_format = '{:.5f}'.format\n",
    "incomes['지역별 소득량(평균)'] = (incomes['금액 (백만원)'] * 1000000) / incomes['인원 (명)']\n",
    "incomes[\"행정구역(시군구)별(1)\"] = incomes[\"행정구역(시군구)별(1)\"].str.replace(\"서울\", \"서울특별시\")\n",
    "incomes[\"행정구역(시군구)별(1)\"] = incomes[\"행정구역(시군구)별(1)\"].str.replace(\"경기\", \"경기도\")\n",
    "incomes[\"행정구역(시군구)별(1)\"] = incomes[\"행정구역(시군구)별(1)\"].str.replace(\"경북\", \"경상도\")\n",
    "incomes[\"행정구역(시군구)별(1)\"] = incomes[\"행정구역(시군구)별(1)\"].str.replace(\"전남\", \"전라도\")\n",
    "incomes[\"행정구역(시군구)별(1)\"] = incomes[\"행정구역(시군구)별(1)\"].str.replace(\"경남\", \"경상도\")\n",
    "incomes[\"행정구역(시군구)별(1)\"] = incomes[\"행정구역(시군구)별(1)\"].str.replace(\"강원\", \"강원도\")\n",
    "incomes[\"행정구역(시군구)별(1)\"] = incomes[\"행정구역(시군구)별(1)\"].str.replace(\"부산\", \"부산광역시\")\n",
    "incomes[\"행정구역(시군구)별(1)\"] = incomes[\"행정구역(시군구)별(1)\"].str.replace(\"충남\", \"충청도\")\n",
    "incomes[\"행정구역(시군구)별(1)\"] = incomes[\"행정구역(시군구)별(1)\"].str.replace(\"전북\", \"전라도\")\n",
    "incomes[\"행정구역(시군구)별(1)\"] = incomes[\"행정구역(시군구)별(1)\"].str.replace(\"충북\", \"충청도\")\n",
    "incomes[\"행정구역(시군구)별(1)\"] = incomes[\"행정구역(시군구)별(1)\"].str.replace(\"인천\", \"인천광역시\")\n",
    "incomes[\"행정구역(시군구)별(1)\"] = incomes[\"행정구역(시군구)별(1)\"].str.replace(\"대구\", \"대구광역시\")\n",
    "incomes[\"행정구역(시군구)별(1)\"] = incomes[\"행정구역(시군구)별(1)\"].str.replace(\"광주\", \"광주광역시\")\n",
    "incomes[\"행정구역(시군구)별(1)\"] = incomes[\"행정구역(시군구)별(1)\"].str.replace(\"대전\", \"대전광역시\")\n",
    "incomes[\"행정구역(시군구)별(1)\"] = incomes[\"행정구역(시군구)별(1)\"].str.replace(\"울산\", \"울산광역시\")\n",
    "incomes[\"행정구역(시군구)별(1)\"] = incomes[\"행정구역(시군구)별(1)\"].str.replace(\"제주\", \"제주도\")\n",
    "incomes[\"행정구역(시군구)별(1)\"] = incomes[\"행정구역(시군구)별(1)\"].str.replace(\"세종\", \"세종자치시\")\n",
    "incomes.rename(columns={\"행정구역(시군구)별(1)\" : \"시\",\n",
    "                        \"행정구역(시군구)별(2)\":\"구군\"}, inplace=True)\n",
    "# df[\"구군\"] = df[\"구군\"].str.replace(\" \", \"\")\n",
    "# df[\"시\"] = df[\"시\"].str.replace(\" \", \"\")\n",
    "incomes['구군'] = incomes['구군'].replace({'미추홀구(남구)': '남구'})\n",
    "incomes['구군'] = incomes['구군'].replace({'당진시': '당진군'})\n",
    "# incomes['구군'] = incomes['구군'].replace({'여주시': '여주'})\n",
    "# df['구군'] = df['구군'].replace({'여주시': '여주'})\n",
    "df['구군'] = df['구군'].replace({'청원군': '청주시'})\n",
    "incomes.head()\n",
    "# incomes[incomes[\"구군\"].str.contains(\"소계\")]\n",
    "# 데이터 전처리\n",
    "# df[\"구군\"] = df[\"구군\"].apply(lambda x: x.strip())\n",
    "df['구군'] = df['구군'].apply(lambda x: x.split()[0])\n",
    "# df.loc[(df['구군'] == '여주군'), '구군'] = '여주시'\n",
    "# df['구군'] = df['구군'].replace({'청원군': '청주시'})\n",
    "incomes['구군'] = incomes['구군'].apply(lambda x: x.split()[0])\n",
    "incomes.loc[(incomes['시'] == '세종자치시') & (incomes['구군'] == '소계'), '구군'] = '세종자치시'\n",
    "# df.loc[0, \"구군\"]\n",
    "df = pd.merge(left=df, right=incomes, how='left', \\\n",
    "                  on=['시','구군'], sort=False)\n",
    "df = df.drop(['인원 (명)', '금액 (백만원)', '인원 (명).1', '금액 (백만원).1', '인원 (명).2', '금액 (백만원).2', '인원 (명).3', '금액 (백만원).3'], axis=1)\n",
    "df_origin = pd.read_csv(\"dataFolder/rental.csv\")\n",
    "df['구군'] = df_origin['구군']\n",
    "df.to_csv(\"rental.csv\", index = False)"
   ]
  },
  {
   "cell_type": "code",
   "execution_count": 275,
   "id": "9735d015-73cd-4af1-b316-acb8e8bd58d0",
   "metadata": {},
   "outputs": [],
   "source": [
    "df.to_csv(\"rental_pre.csv\", index=False)"
   ]
  },
  {
   "cell_type": "code",
   "execution_count": null,
   "id": "66e2f595-e87f-4249-9746-3185fe6c97dd",
   "metadata": {},
   "outputs": [],
   "source": []
  },
  {
   "cell_type": "code",
   "execution_count": null,
   "id": "0097cbb0-846e-400f-a652-bade5ff55ba3",
   "metadata": {},
   "outputs": [],
   "source": []
  },
  {
   "cell_type": "code",
   "execution_count": null,
   "id": "1c527a1f-19b6-46ea-82fe-5639aed1fe74",
   "metadata": {},
   "outputs": [],
   "source": []
  }
 ],
 "metadata": {
  "kernelspec": {
   "display_name": "Python 3 (ipykernel)",
   "language": "python",
   "name": "python3"
  },
  "language_info": {
   "codemirror_mode": {
    "name": "ipython",
    "version": 3
   },
   "file_extension": ".py",
   "mimetype": "text/x-python",
   "name": "python",
   "nbconvert_exporter": "python",
   "pygments_lexer": "ipython3",
   "version": "3.10.9"
  }
 },
 "nbformat": 4,
 "nbformat_minor": 5
}
